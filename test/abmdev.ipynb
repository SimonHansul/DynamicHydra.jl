{
 "cells": [
  {
   "cell_type": "markdown",
   "metadata": {},
   "source": [
    "# Implementation of agent-based simulations"
   ]
  },
  {
   "cell_type": "code",
   "execution_count": 4,
   "metadata": {},
   "outputs": [
    {
     "name": "stderr",
     "output_type": "stream",
     "text": [
      "┌ Info: Loading packages\n",
      "└ @ Main c:\\Users\\simon\\Documents\\Julia\\Hydra\\test\\abmdev.ipynb:1\n",
      "\u001b[32m\u001b[1m  Activating\u001b[22m\u001b[39m project at `c:\\Users\\simon\\Documents\\Julia\\Hydra\\test`\n"
     ]
    }
   ],
   "source": [
    "@info(\"Loading packages\")\n",
    "using Pkg; Pkg.activate(\"../test\")\n",
    "using Plots, StatsPlots, Plots.Measures\n",
    "using StatsBase\n",
    "using Glob\n",
    "using DataFrames, DataFramesMeta\n",
    "using ProgressMeter\n",
    "default(leg = false, lw = 1.5)\n",
    "\n",
    "using ComponentArrays, StaticArrays\n",
    "using Test\n",
    "using Parameters\n",
    "using Distributions\n",
    "using OrdinaryDiffEq\n",
    "\n",
    "\n",
    "# establishing type hierarchy\n",
    "abstract type AbstractParams end\n",
    "abstract type AbstractParamCollection end # an AbstractParamCollection contain a defined set of multiple AbstractParams instances\n",
    "abstract type AbstractSpeciesParams <: AbstractParams end\n",
    "abstract type AbstractGlobalParams <: AbstractParams end\n",
    "abstract type AbstractGlobalODEParams <: AbstractParams end\n",
    "abstract type AbstractABM end\n",
    "abstract type AbstractAgent end"
   ]
  },
  {
   "cell_type": "code",
   "execution_count": 7,
   "metadata": {},
   "outputs": [
    {
     "data": {
      "text/plain": [
       "@replicates"
      ]
     },
     "metadata": {},
     "output_type": "display_data"
    }
   ],
   "source": [
    "include(\"../src/DoseResponse.jl\")\n",
    "include(\"../src/Params.jl\")\n",
    "include(\"../src/Solvers.jl\")\n",
    "include(\"../src/StateVars.jl\")\n",
    "include(\"../src/IO.jl\")\n",
    "include(\"../src/ModelFunctions.jl\")\n",
    "include(\"../src/HydraODE.jl\")\n",
    "include(\"../src/ImpliedTraits.jl\")\n",
    "include(\"../src/Macros.jl\")"
   ]
  },
  {
   "cell_type": "code",
   "execution_count": 8,
   "metadata": {},
   "outputs": [],
   "source": [
    "using Test"
   ]
  },
  {
   "cell_type": "code",
   "execution_count": 9,
   "metadata": {},
   "outputs": [
    {
     "data": {
      "text/plain": [
       "ABM"
      ]
     },
     "metadata": {},
     "output_type": "display_data"
    }
   ],
   "source": [
    "abstract type AbstractABM end\n",
    "\n",
    "\"\"\"\n",
    "Currently assumes that all agents are represented by a single agent type `AgentType`.\n",
    "\"\"\"\n",
    "mutable struct ABM <: AbstractABM\n",
    "    p::AbstractParamCollection # parameter collection\n",
    "    t::Float64 # current simulation time\n",
    "    dt::Float64 # timestep\n",
    "    euler::Function # definition of the euler function for the given dt\n",
    "    saveat::Float64\n",
    "    \n",
    "    u::ComponentVector # global state variables\n",
    "    du::ComponentVector # global derivatives\n",
    "\n",
    "    AgentID_count::Int64 # cumulative number of agents in the simulation\n",
    "    agents::AbstractVector # population of agents\n",
    "    aout::AbstractVector # agent output\n",
    "    mout::AbstractVector # model output\n",
    "\n",
    "    \"\"\"\n",
    "    Instantiate ABM from param collection `p`. \n",
    "    \"\"\"\n",
    "    function ABM(\n",
    "        p::A; \n",
    "        dt = 1/24, \n",
    "        saveat = 1,\n",
    "        execute = true\n",
    "        ) where A <: AbstractParamCollection\n",
    "\n",
    "        abm = new() # initialize ABM object\n",
    "\n",
    "        abm.p = p # store the parameters\n",
    "        abm.t = 0. # initialize simulation time\n",
    "        abm.dt = dt # timestep is given as keyword argument\n",
    "        abm.euler = defeuler(dt) # Euler function for the given dt\n",
    "        abm.saveat = saveat\n",
    "        \n",
    "        abm.u = init_substates_global(p) # initialize the global substates\n",
    "        abm.du = similar(abm.u) # initialize the global derivatives\n",
    "        abm.du.X_p = 0.\n",
    "        abm.du.C_W .= 0.\n",
    "        \n",
    "        abm.AgentID_count = 0 # set agent count\n",
    "        initialize_agents!(abm) # initailize the population of agents\n",
    "        abm.aout = [] # initialize agent output\n",
    "        abm.mout = [] # initialize model output\n",
    "\n",
    "        if execute\n",
    "            run!(abm) # run the model\n",
    "\n",
    "            return prepare_output(abm) # prepare output in dataframes and return\n",
    "        else\n",
    "            return abm\n",
    "        end\n",
    "    end\n",
    "end"
   ]
  }
 ],
 "metadata": {
  "kernelspec": {
   "display_name": "Julia 1.10.1",
   "language": "julia",
   "name": "julia-1.10"
  },
  "language_info": {
   "file_extension": ".jl",
   "mimetype": "application/julia",
   "name": "julia",
   "version": "1.10.1"
  }
 },
 "nbformat": 4,
 "nbformat_minor": 2
}
