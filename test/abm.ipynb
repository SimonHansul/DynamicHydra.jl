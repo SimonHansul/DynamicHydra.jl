{
 "cells": [
  {
   "cell_type": "code",
   "execution_count": 1,
   "metadata": {},
   "outputs": [
    {
     "name": "stderr",
     "output_type": "stream",
     "text": [
      "┌ Info: Loading packages\n",
      "└ @ Main c:\\Users\\simon\\Documents\\Julia\\Hydra\\test\\abm.ipynb:1\n",
      "\u001b[32m\u001b[1m  Activating\u001b[22m\u001b[39m project at `c:\\Users\\simon\\Documents\\Julia\\Hydra\\test`\n"
     ]
    },
    {
     "data": {
      "text/plain": [
       "@replicates"
      ]
     },
     "metadata": {},
     "output_type": "display_data"
    }
   ],
   "source": [
    "@info(\"Loading packages\")\n",
    "using Pkg; Pkg.activate(\"../test\")\n",
    "using Plots, StatsPlots, Plots.Measures\n",
    "using StatsBase\n",
    "using Glob\n",
    "using DataFrames, DataFramesMeta\n",
    "using ProgressMeter\n",
    "default(leg = false, lw = 1.5)\n",
    "\n",
    "using ComponentArrays, StaticArrays\n",
    "using Test\n",
    "using Parameters\n",
    "using Distributions\n",
    "using OrdinaryDiffEq\n",
    "\n",
    "# establishing type hierarchy\n",
    "abstract type AbstractParams end\n",
    "abstract type AbstractParamCollection end # an AbstractParamCollection contain a defined set of multiple AbstractParams instances\n",
    "abstract type AbstractSpeciesParams <: AbstractParams end\n",
    "abstract type AbstractGlobalODEParams <: AbstractParams end\n",
    "abstract type AbstractABM end\n",
    "abstract type AbstractAgent end\n",
    "\n",
    "include(\"../src/DoseResponse.jl\")\n",
    "include(\"../src/Params.jl\")\n",
    "include(\"../src/Solvers.jl\")\n",
    "include(\"../src/StateVars.jl\")\n",
    "include(\"../src/IO.jl\")\n",
    "include(\"../src/ModelFunctions.jl\")\n",
    "include(\"../src/DEBODE.jl\")\n",
    "include(\"../src/ImpliedTraits.jl\")\n",
    "include(\"../src/Macros.jl\")"
   ]
  },
  {
   "cell_type": "markdown",
   "metadata": {},
   "source": [
    "## ABM"
   ]
  },
  {
   "cell_type": "code",
   "execution_count": 2,
   "metadata": {},
   "outputs": [
    {
     "data": {
      "text/plain": [
       "ABM"
      ]
     },
     "metadata": {},
     "output_type": "display_data"
    }
   ],
   "source": [
    "abstract type AbstractABM end\n",
    "\n",
    "\"\"\"\n",
    "Currently assumes that all agents are represented by a single agent type `AgentType`.\n",
    "\"\"\"\n",
    "mutable struct ABM <: AbstractABM\n",
    "    p::AbstractParamCollection # parameter collection\n",
    "    t::Float64 # current simulation time\n",
    "    dt::Float64 # timestep\n",
    "    euler::Function # definition of the euler function for the given dt\n",
    "    saveat::Float64\n",
    "    \n",
    "    u::ComponentVector # global state variables\n",
    "    du::ComponentVector # global derivatives\n",
    "\n",
    "    AgentID_count::Int64 # cumulative number of agents in the simulation\n",
    "    agents::AbstractVector # population of agents\n",
    "    aout::AbstractVector # agent output\n",
    "    mout::AbstractVector # model output\n",
    "\n",
    "    \"\"\"\n",
    "    Instantiate ABM from param collection `p`. \n",
    "    \"\"\"\n",
    "    function ABM(\n",
    "        p::A; \n",
    "        dt = 1/24, \n",
    "        saveat = 1,\n",
    "        execute = true\n",
    "        ) where A <: AbstractParamCollection\n",
    "\n",
    "        abm = new() # initialize ABM object\n",
    "\n",
    "        abm.p = p # store the parameters\n",
    "        abm.t = 0. # initialize simulation time\n",
    "        abm.dt = dt # timestep is given as keyword argument\n",
    "        abm.euler = defeuler(dt) # Euler function for the given dt\n",
    "        abm.saveat = saveat\n",
    "        \n",
    "        abm.u = init_substates_global(p) # initialize the global substates\n",
    "        abm.du = similar(abm.u) # initialize the global derivatives\n",
    "        abm.du.X_p = 0.\n",
    "        abm.du.C_W .= 0.\n",
    "        \n",
    "        abm.AgentID_count = 0 # set agent count\n",
    "        initialize_agents!(abm) # initailize the population of agents\n",
    "        abm.aout = [] # initialize agent output\n",
    "        abm.mout = [] # initialize model output\n",
    "\n",
    "        if execute\n",
    "            run!(abm) # run the model\n",
    "\n",
    "            return prepare_output(abm) # prepare output in dataframes and return\n",
    "        else\n",
    "            return abm\n",
    "        end\n",
    "    end\n",
    "end"
   ]
  },
  {
   "cell_type": "code",
   "execution_count": 3,
   "metadata": {},
   "outputs": [
    {
     "data": {
      "text/plain": [
       "step!"
      ]
     },
     "metadata": {},
     "output_type": "display_data"
    }
   ],
   "source": [
    "using Random\n",
    "\n",
    "\"\"\"\n",
    "step!(\n",
    "    abm::ABM; \n",
    "    )\n",
    "\n",
    "Execution of a generic ABM step, following the schedule: \n",
    "\n",
    "1. Shuffle agents\n",
    "2. Calculate global derivatives\n",
    "3. Calculate agent derivatives\n",
    "4. Update agent states\n",
    "5. Record agent states\n",
    "6. Update global states\n",
    "7. Record global states\n",
    "\n",
    "It is important that the agent steps occur between calculation of the global derivatives and \n",
    "updating the global states, because global derivatives which may be influenced by agent derivatives \n",
    "are initialized during calculation of the global states and may be mutated by the agent step. <br>\n",
    "Changing this order will lead to erroneous computation of the interaction between agents and the environment.\n",
    "\"\"\"\n",
    "function step!(abm::ABM)\n",
    "\n",
    "    du, u, p = abm.du, abm.u, abm.p\n",
    "    t = abm.t\n",
    "\n",
    "    shuffle!(abm.agents)\n",
    "\n",
    "    for func! in abm.p.glb.odefuncs # execute global ODE-based functions\n",
    "        func!(du, u, p, t)\n",
    "    end\n",
    "\n",
    "    for func! in abm.p.glb.rulefuncs # execute global rule-based functions\n",
    "        func!(abm)\n",
    "    end\n",
    "    \n",
    "    for a in abm.agents # for every agent\n",
    "        step!(a, abm) # execute agent steps\n",
    "        record!(a, abm) # record agent data\n",
    "    end\n",
    "\n",
    "    map!(abm.euler, u, du, u) # apply the euler scheme to global states\n",
    "    record!(abm) # record global states\n",
    "    filter!(a -> a.u.agn.dead == false, abm.agents) # remove dead agents\n",
    "\n",
    "    abm.t += abm.dt\n",
    "end\n"
   ]
  },
  {
   "cell_type": "code",
   "execution_count": 4,
   "metadata": {},
   "outputs": [
    {
     "data": {
      "text/plain": [
       "initialize_agents!"
      ]
     },
     "metadata": {},
     "output_type": "display_data"
    }
   ],
   "source": [
    "\"\"\"\n",
    "    init_agents!(abm::AbstractABM)::nothing\n",
    "Initialize the population of \n",
    "\"\"\"\n",
    "function initialize_agents!(abm::AbstractABM)::Nothing\n",
    "\n",
    "    abm.agents = [] # initialize a vector of agents with undefined values and defined length\n",
    "\n",
    "    for i in 1:abm.p.glb.N0 # for the number of initial agents\n",
    "        \n",
    "        push!(abm.agents, abm.p.glb.AgentType(abm)) # initialize an agent and add it to the vector of agents\n",
    "    end\n",
    "\n",
    "    return nothing\n",
    "end"
   ]
  },
  {
   "cell_type": "markdown",
   "metadata": {},
   "source": [
    "## Agent"
   ]
  },
  {
   "cell_type": "code",
   "execution_count": 5,
   "metadata": {},
   "outputs": [
    {
     "name": "stderr",
     "output_type": "stream",
     "text": [
      "WARNING: import of Base.copy into Main conflicts with an existing identifier; ignored.\n"
     ]
    },
    {
     "data": {
      "text/plain": [
       "DEBAgent"
      ]
     },
     "metadata": {},
     "output_type": "display_data"
    }
   ],
   "source": [
    "abstract type AbstractAgent end\n",
    "import Base:copy\n",
    "\n",
    "\n",
    "\"\"\"\n",
    "The definition of a generic AbstractAgent.\n",
    "\"\"\"\n",
    "mutable struct DEBAgent <: AbstractAgent\n",
    "    p::AbstractParamCollection\n",
    "    u::ComponentVector\n",
    "    du::ComponentVector\n",
    "    AgentID::Int64\n",
    "    adata_t::AbstractVector\n",
    "\n",
    "    \"\"\"\n",
    "        DEBAgent(abm::ABM)\n",
    "    \n",
    "    Initialization of a generic DEB agent within ABM structure.\n",
    "    \"\"\"\n",
    "    function DEBAgent(abm::ABM)\n",
    "        a = new()\n",
    "\n",
    "        a.p = copy(abm.p) # parameters; TODO: #29 avoid copying everything\n",
    "        a.p.agn = AgentParams(a.p.spc) # assign agent-level parameters (induces individual variability)\n",
    "        initialize_statevars!(a, abm) # initialize agent-level state variables\n",
    "        a.du = similar(a.u) # initialize agent-level derivatives\n",
    "        a.du.glb = abm.du # reference to global derivatives\n",
    "        a.du.agn = similar(a.u.agn) # derivatives of agent substates have same shape as states\n",
    "        a.AgentID = abm.AgentID_count # assign AgentID\n",
    "        abm.AgentID_count += 1 # increment AgentID counter\n",
    "\n",
    "        aout_t = Vector{Any}(undef, length(abm.p.spc.adata)) #\n",
    "        \n",
    "        return a\n",
    "    end\n",
    "end"
   ]
  },
  {
   "cell_type": "code",
   "execution_count": null,
   "metadata": {},
   "outputs": [],
   "source": []
  },
  {
   "cell_type": "code",
   "execution_count": 54,
   "metadata": {},
   "outputs": [
    {
     "data": {
      "text/plain": [
       "Any[]"
      ]
     },
     "metadata": {},
     "output_type": "display_data"
    }
   ],
   "source": [
    "Vector{Any}(undef, 0)"
   ]
  },
  {
   "cell_type": "code",
   "execution_count": null,
   "metadata": {},
   "outputs": [
    {
     "data": {
      "text/plain": [
       "1"
      ]
     },
     "metadata": {},
     "output_type": "display_data"
    }
   ],
   "source": [
    "getpropertagents[1].S"
   ]
  },
  {
   "cell_type": "code",
   "execution_count": 34,
   "metadata": {},
   "outputs": [
    {
     "data": {
      "text/plain": [
       "record!"
      ]
     },
     "metadata": {},
     "output_type": "display_data"
    }
   ],
   "source": [
    "\"\"\"\n",
    "Update an agent's reference to global state variables.\n",
    "\"\"\"\n",
    "function update_glb!(agent::AbstractAgent, abm::AbstractABM)\n",
    "    map!(x -> x, agent.u.glb, abm.u) \n",
    "end\n",
    "\n",
    "\"\"\"\n",
    "step!(agent::AbstractAgent, abm::AbstractABM; odefuncs::Vector{Function}, rulefuncs::Vector{Function})\n",
    "\n",
    "Generic definition of agent step. \\n\n",
    "This definition is generic, so that the function body does not have to be modified \n",
    "in order to simulate different models.\n",
    "\"\"\"\n",
    "function step!(agent::AbstractAgent, abm::ABM)\n",
    "    du, u, p = agent.du, agent.u, agent.p # unpack agent substates, derivatives and parameters\n",
    "    t = abm.t\n",
    "\n",
    "    update_glb!(agent, abm) # update references to global state variables\n",
    "    \n",
    "    for func! in agent.p.spc.rulefuncs # apply all rule-based functions\n",
    "        func!(agent, abm)\n",
    "    end\n",
    "\n",
    "    for func! in agent.p.spc.odefuncs # apply all ODE-based functions\n",
    "        func!(du, u, p, t) \n",
    "    end\n",
    "\n",
    "\n",
    "    map!(abm.euler, u.agn, du.agn, u.agn) # apply the euler scheme to agent substates\n",
    "end\n",
    "\n",
    "\"\"\"\n",
    "record!(agent::DEBAgent, abm::ABM)\n",
    "\n",
    "Record agent output (only if `p.glb.recordagentvars == true`).\n",
    "\"\"\"\n",
    "function record!(agent::AbstractAgent, abm::ABM)\n",
    "    if abm.p.glb.recordagentvars && isapprox(abm.t%abm.saveat, 0, atol = abm.dt)\n",
    "        push!(abm.aout, (t = abm.t, AgentID = agent.AgentID, u = copy(agent.u.agn)))\n",
    "    end\n",
    "end\n"
   ]
  },
  {
   "cell_type": "code",
   "execution_count": 44,
   "metadata": {},
   "outputs": [
    {
     "data": {
      "text/plain": [
       "((S = 1, R = 2), (S = 3, R = 4), (S = 4, R = 5))"
      ]
     },
     "metadata": {},
     "output_type": "display_data"
    }
   ],
   "source": [
    "adata = [:S, :R]\n",
    "agents = ((S = 1, R = 2), (S = 3, R = 4), (S = 4, R = 5))"
   ]
  },
  {
   "cell_type": "code",
   "execution_count": 35,
   "metadata": {},
   "outputs": [
    {
     "data": {
      "text/plain": [
       "run!"
      ]
     },
     "metadata": {},
     "output_type": "display_data"
    }
   ],
   "source": [
    "\n",
    "\"\"\"\n",
    "record!(abm::ABM)\n",
    "\n",
    "Record model-level output.\n",
    "\"\"\"\n",
    "function record!(abm::ABM)\n",
    "    if isapprox(abm.t%abm.saveat, 0, atol = abm.dt)\n",
    "        push!(abm.mout, (t = abm.t, u = copy(abm.u)))\n",
    "    end\n",
    "end\n",
    "\n",
    "\"\"\"\n",
    "Run the ABM.\n",
    "\"\"\"\n",
    "function run!(abm::AbstractABM)\n",
    "    while abm.t <= abm.p.glb.t_max\n",
    "        step!(abm)\n",
    "    end\n",
    "end"
   ]
  },
  {
   "cell_type": "code",
   "execution_count": 36,
   "metadata": {},
   "outputs": [
    {
     "data": {
      "text/plain": [
       "prepare_output"
      ]
     },
     "metadata": {},
     "output_type": "display_data"
    }
   ],
   "source": [
    "\n",
    "\"\"\"\n",
    "    prepare_output(abm::AbstractABM)\n",
    "\n",
    "Prepare ABM output, converting Vectors of ComponentArrays into DataFrames. \n",
    "Two separate DataFrames are returned containing global and agent-level state variables, respectively.\n",
    "\"\"\"\n",
    "function prepare_output(abm::AbstractABM)\n",
    "\n",
    "    mout = DataFrame(hcat([[x.t] for x in abm.mout]...)', [:t]) |> \n",
    "    x-> hcat(x, DataFrame(hcat([m.u for m in abm.mout]...)', extract_colnames(abm.mout[1].u)))\n",
    "    \n",
    "    if abm.p.glb.recordagentvars\n",
    "        aout = DataFrame(hcat([[x.t, x.AgentID] for x in abm.aout]...)', [:t, :AgentID]) |> \n",
    "        x-> hcat(x, DataFrame(hcat([a.u for a in abm.aout]...)', extract_colnames(abm.aout[1].u)))\n",
    "    else\n",
    "        aout = DataFrame()\n",
    "    end\n",
    "\n",
    "    return mout, aout\n",
    "end\n"
   ]
  },
  {
   "cell_type": "code",
   "execution_count": 37,
   "metadata": {},
   "outputs": [
    {
     "ename": "MethodError",
     "evalue": "MethodError: no method matching copy(::ComponentVector{Float64, SubArray{Float64, 1, Vector{Float64}, Tuple{UnitRange{Int64}}, true}, Tuple{Axis{(X_emb = 1, S = 2, S_0 = 3, H = 4, H_b = 5, R = 6, f_X = 7, I_emb = 8, I_p = 9, I = 10, A = 11, M = 12, J = 13, Q = 14, D_G = 15:15, D_M = 16:16, D_A = 17:17, D_R = 18:18, D_h = 19:19, y_G = 20, y_M = 21, y_A = 22, y_R = 23, h_z = 24, h_S = 25, cum_repro = 26, age = 27, cohort = 28, dead = 29, causeofdeath = 30)}}})\nYou may have intended to import Base.copy\n\nClosest candidates are:\n  copy(!Matched::AbstractParamCollection)\n   @ Main c:\\Users\\simon\\Documents\\Julia\\Hydra\\src\\Params.jl:11\n  copy(!Matched::AbstractParams)\n   @ Main c:\\Users\\simon\\Documents\\Julia\\Hydra\\src\\Params.jl:10\n",
     "output_type": "error",
     "traceback": [
      "MethodError: no method matching copy(::ComponentVector{Float64, SubArray{Float64, 1, Vector{Float64}, Tuple{UnitRange{Int64}}, true}, Tuple{Axis{(X_emb = 1, S = 2, S_0 = 3, H = 4, H_b = 5, R = 6, f_X = 7, I_emb = 8, I_p = 9, I = 10, A = 11, M = 12, J = 13, Q = 14, D_G = 15:15, D_M = 16:16, D_A = 17:17, D_R = 18:18, D_h = 19:19, y_G = 20, y_M = 21, y_A = 22, y_R = 23, h_z = 24, h_S = 25, cum_repro = 26, age = 27, cohort = 28, dead = 29, causeofdeath = 30)}}})\n",
      "You may have intended to import Base.copy\n",
      "\n",
      "Closest candidates are:\n",
      "  copy(!Matched::AbstractParamCollection)\n",
      "   @ Main c:\\Users\\simon\\Documents\\Julia\\Hydra\\src\\Params.jl:11\n",
      "  copy(!Matched::AbstractParams)\n",
      "   @ Main c:\\Users\\simon\\Documents\\Julia\\Hydra\\src\\Params.jl:10\n",
      "\n",
      "\n",
      "Stacktrace:\n",
      " [1] record!(agent::DEBAgent, abm::ABM)\n",
      "   @ Main c:\\Users\\simon\\Documents\\Julia\\Hydra\\test\\abm.ipynb:40\n",
      " [2] step!(abm::ABM)\n",
      "   @ Main c:\\Users\\simon\\Documents\\Julia\\Hydra\\test\\abm.ipynb:40\n",
      " [3] run!(abm::ABM)\n",
      "   @ Main c:\\Users\\simon\\Documents\\Julia\\Hydra\\test\\abm.ipynb:18\n",
      " [4] ABM(p::ABMParamCollection; dt::Float64, saveat::Int64, execute::Bool)\n",
      "   @ Main c:\\Users\\simon\\Documents\\Julia\\Hydra\\test\\abm.ipynb:50\n",
      " [5] ABM(p::ABMParamCollection)\n",
      "   @ Main c:\\Users\\simon\\Documents\\Julia\\Hydra\\test\\abm.ipynb:24\n",
      " [6] top-level scope\n",
      "   @ c:\\Users\\simon\\Documents\\Julia\\Hydra\\test\\abm.ipynb:5"
     ]
    }
   ],
   "source": [
    "theta = ABMParamCollection(\n",
    "    glb = GlobalABMParams(AgentType = DEBAgent)\n",
    ")\n",
    "\n",
    "Yhat = ABM(theta)"
   ]
  },
  {
   "cell_type": "code",
   "execution_count": 10,
   "metadata": {},
   "outputs": [],
   "source": []
  },
  {
   "cell_type": "code",
   "execution_count": 11,
   "metadata": {},
   "outputs": [],
   "source": []
  },
  {
   "cell_type": "code",
   "execution_count": 12,
   "metadata": {},
   "outputs": [],
   "source": []
  },
  {
   "cell_type": "code",
   "execution_count": 13,
   "metadata": {},
   "outputs": [],
   "source": []
  },
  {
   "cell_type": "code",
   "execution_count": 14,
   "metadata": {},
   "outputs": [],
   "source": []
  }
 ],
 "metadata": {
  "kernelspec": {
   "display_name": "Julia 1.10.1",
   "language": "julia",
   "name": "julia-1.10"
  },
  "language_info": {
   "file_extension": ".jl",
   "mimetype": "application/julia",
   "name": "julia",
   "version": "1.10.1"
  }
 },
 "nbformat": 4,
 "nbformat_minor": 2
}
