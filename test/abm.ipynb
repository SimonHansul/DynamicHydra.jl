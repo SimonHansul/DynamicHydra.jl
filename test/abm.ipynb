{
 "cells": [
  {
   "cell_type": "code",
   "execution_count": 1,
   "metadata": {},
   "outputs": [
    {
     "name": "stderr",
     "output_type": "stream",
     "text": [
      "┌ Info: Loading packages\n",
      "└ @ Main c:\\Users\\simon\\Documents\\Julia\\Hydra\\test\\abm.ipynb:1\n",
      "\u001b[32m\u001b[1m  Activating\u001b[22m\u001b[39m project at `c:\\Users\\simon\\Documents\\Julia\\Hydra\\test`\n"
     ]
    },
    {
     "data": {
      "text/plain": [
       "@replicates"
      ]
     },
     "metadata": {},
     "output_type": "display_data"
    }
   ],
   "source": [
    "@info(\"Loading packages\")\n",
    "using Pkg; Pkg.activate(\"../test\")\n",
    "using Plots, StatsPlots, Plots.Measures\n",
    "using StatsBase\n",
    "using Glob\n",
    "using DataFrames, DataFramesMeta\n",
    "using ProgressMeter\n",
    "default(leg = false, lw = 1.5)\n",
    "\n",
    "using ComponentArrays, StaticArrays\n",
    "using Test\n",
    "using Parameters\n",
    "using Distributions\n",
    "using OrdinaryDiffEq\n",
    "\n",
    "# establishing type hierarchy\n",
    "abstract type AbstractParams end\n",
    "abstract type AbstractParamCollection end # an AbstractParamCollection contain a defined set of multiple AbstractParams instances\n",
    "abstract type AbstractSpeciesParams <: AbstractParams end\n",
    "abstract type AbstractGlobalODEParams <: AbstractParams end\n",
    "abstract type AbstractABM end\n",
    "abstract type AbstractAgent end\n",
    "\n",
    "include(\"../src/DoseResponse.jl\")\n",
    "include(\"../src/Params.jl\")\n",
    "include(\"../src/Solvers.jl\")\n",
    "include(\"../src/StateVars.jl\")\n",
    "include(\"../src/IO.jl\")\n",
    "include(\"../src/ModelFunctions.jl\")\n",
    "include(\"../src/DEBODE.jl\")\n",
    "include(\"../src/ImpliedTraits.jl\")\n",
    "include(\"../src/Macros.jl\")"
   ]
  },
  {
   "cell_type": "markdown",
   "metadata": {},
   "source": [
    "## ABM"
   ]
  },
  {
   "cell_type": "code",
   "execution_count": 2,
   "metadata": {},
   "outputs": [
    {
     "data": {
      "text/plain": [
       "ABM"
      ]
     },
     "metadata": {},
     "output_type": "display_data"
    }
   ],
   "source": [
    "abstract type AbstractABM end\n",
    "\n",
    "\"\"\"\n",
    "Currently assumes that all agents are represented by a single agent type `AgentType`.\n",
    "\"\"\"\n",
    "mutable struct ABM <: AbstractABM\n",
    "    p::AbstractParamCollection # parameter collection\n",
    "    t::Float64 # current simulation time\n",
    "    dt::Float64 # timestep\n",
    "    euler::Function # definition of the euler function for the given dt\n",
    "    saveat::Float64\n",
    "    \n",
    "    u::ComponentVector # global state variables\n",
    "    du::ComponentVector # global derivatives\n",
    "\n",
    "    AgentID_count::Int64 # cumulative number of agents in the simulation\n",
    "    agents::AbstractVector # population of agents\n",
    "    aout::AbstractVector # agent output\n",
    "    mout::AbstractVector # model output\n",
    "\n",
    "    \"\"\"\n",
    "    Instantiate ABM from param collection `p`. \n",
    "    \"\"\"\n",
    "    function ABM(\n",
    "        p::A; \n",
    "        dt = 1/24, \n",
    "        saveat = 1,\n",
    "        execute = true\n",
    "        ) where A <: AbstractParamCollection\n",
    "\n",
    "        abm = new() # initialize ABM object\n",
    "\n",
    "        abm.p = p # store the parameters\n",
    "        abm.t = 0. # initialize simulation time\n",
    "        abm.dt = dt # timestep is given as keyword argument\n",
    "        abm.euler = defeuler(dt) # Euler function for the given dt\n",
    "        abm.saveat = saveat\n",
    "        \n",
    "        abm.u = init_substates_global(p) # initialize the global substates\n",
    "        abm.du = similar(abm.u) # initialize the global derivatives\n",
    "        abm.du.X_p = 0.\n",
    "        abm.du.C_W .= 0.\n",
    "        \n",
    "        abm.AgentID_count = 0 # set agent count\n",
    "        initialize_agents!(abm) # initailize the population of agents\n",
    "        abm.aout = [] # initialize agent output\n",
    "        abm.mout = [] # initialize model output\n",
    "\n",
    "        if execute\n",
    "            run!(abm) # run the model\n",
    "\n",
    "            return prepare_output(abm) # prepare output in dataframes and return\n",
    "        else\n",
    "            return abm\n",
    "        end\n",
    "    end\n",
    "end"
   ]
  },
  {
   "cell_type": "code",
   "execution_count": 3,
   "metadata": {},
   "outputs": [
    {
     "data": {
      "text/plain": [
       "step!"
      ]
     },
     "metadata": {},
     "output_type": "display_data"
    }
   ],
   "source": [
    "using Random\n",
    "\n",
    "\"\"\"\n",
    "step!(\n",
    "    abm::ABM; \n",
    "    )\n",
    "\n",
    "Execution of a generic ABM step, following the schedule: \n",
    "\n",
    "1. Shuffle agents\n",
    "2. Calculate global derivatives\n",
    "3. Calculate agent derivatives\n",
    "4. Update agent states\n",
    "5. Record agent states\n",
    "6. Update global states\n",
    "7. Record global states\n",
    "\n",
    "It is important that the agent steps occur between calculation of the global derivatives and \n",
    "updating the global states, because global derivatives which may be influenced by agent derivatives \n",
    "are initialized during calculation of the global states and may be mutated by the agent step. <br>\n",
    "Changing this order will lead to erroneous computation of the interaction between agents and the environment.\n",
    "\"\"\"\n",
    "function step!(abm::ABM)\n",
    "\n",
    "    du, u, p = abm.du, abm.u, abm.p\n",
    "    t = abm.t\n",
    "\n",
    "    shuffle!(abm.agents)\n",
    "\n",
    "    for func! in abm.p.glb.odefuncs # execute global ODE-based functions\n",
    "        func!(du, u, p, t)\n",
    "    end\n",
    "\n",
    "    for func! in abm.p.glb.rulefuncs # execute global rule-based functions\n",
    "        func!(abm)\n",
    "    end\n",
    "    \n",
    "    for a in abm.agents # for every agent\n",
    "        step!(a, abm) # execute agent steps\n",
    "        record!(a, abm) # record agent data\n",
    "    end\n",
    "\n",
    "    map!(abm.euler, u, du, u) # apply the euler scheme to global states\n",
    "    record!(abm) # record global states\n",
    "    filter!(a -> a.u.agn.dead == false, abm.agents) # remove dead agents\n",
    "\n",
    "    abm.t += abm.dt\n",
    "end\n"
   ]
  },
  {
   "cell_type": "code",
   "execution_count": 4,
   "metadata": {},
   "outputs": [
    {
     "data": {
      "text/plain": [
       "initialize_agents!"
      ]
     },
     "metadata": {},
     "output_type": "display_data"
    }
   ],
   "source": [
    "\"\"\"\n",
    "    init_agents!(abm::AbstractABM)::nothing\n",
    "Initialize the population of \n",
    "\"\"\"\n",
    "function initialize_agents!(abm::AbstractABM)::Nothing\n",
    "\n",
    "    abm.agents = [] # initialize a vector of agents with undefined values and defined length\n",
    "\n",
    "    for i in 1:abm.p.glb.N0 # for the number of initial agents\n",
    "        \n",
    "        push!(abm.agents, abm.p.glb.AgentType(abm)) # initialize an agent and add it to the vector of agents\n",
    "    end\n",
    "\n",
    "    return nothing\n",
    "end"
   ]
  },
  {
   "cell_type": "markdown",
   "metadata": {},
   "source": [
    "## Agent"
   ]
  },
  {
   "cell_type": "code",
   "execution_count": 5,
   "metadata": {},
   "outputs": [
    {
     "name": "stderr",
     "output_type": "stream",
     "text": [
      "WARNING: import of Base.copy into Main conflicts with an existing identifier; ignored.\n"
     ]
    },
    {
     "data": {
      "text/plain": [
       "DEBAgent"
      ]
     },
     "metadata": {},
     "output_type": "display_data"
    }
   ],
   "source": [
    "abstract type AbstractAgent end\n",
    "import Base:copy\n",
    "\n",
    "\n",
    "\"\"\"\n",
    "The definition of a generic AbstractAgent.\n",
    "\"\"\"\n",
    "mutable struct DEBAgent <: AbstractAgent\n",
    "    p::AbstractParamCollection\n",
    "    u::ComponentVector\n",
    "    du::ComponentVector\n",
    "    AgentID::Int64\n",
    "\n",
    "    \"\"\"\n",
    "        DEBAgent(abm::ABM)\n",
    "    \n",
    "    Initialization of a generic DEB agent within ABM structure.\n",
    "    \"\"\"\n",
    "    function DEBAgent(abm::ABM)\n",
    "        a = new()\n",
    "\n",
    "        a.p = copy(abm.p) # parameters; TODO: #29 avoid copying everything\n",
    "        a.p.agn = AgentParams(a.p.spc) # assign agent-level parameters (induces individual variability)\n",
    "        initialize_statevars!(a, abm) # initialize agent-level state variables\n",
    "        a.du = similar(a.u) # initialize agent-level derivatives\n",
    "        a.du.glb = abm.du # reference to global derivatives\n",
    "        a.du.agn = similar(a.u.agn) # derivatives of agent substates have same shape as states\n",
    "        a.AgentID = abm.AgentID_count # assign AgentID\n",
    "        abm.AgentID_count += 1 # increment AgentID counter\n",
    "\n",
    "        aout_t = Vector{Any}(undef, length(abm.p.spc.adata)) #\n",
    "        \n",
    "        return a\n",
    "    end\n",
    "end"
   ]
  },
  {
   "cell_type": "code",
   "execution_count": 23,
   "metadata": {},
   "outputs": [
    {
     "data": {
      "text/plain": [
       "DEBAgent(ABMParamCollection\n",
       "  glb: GlobalABMParams\n",
       "  spc: SpeciesParams\n",
       "  agn: AgentParams\n",
       ", (agn = (X_emb = 19.42, S = 0.019420000000000003, S_0 = 0.019420000000000003, H = 0.0, H_b = 0.0, R = 0.0, f_X = 1.0, I_emb = 0.0, I_p = 0.0, I = 0.0, A = 0.0, M = 0.0, J = 0.0, Q = 0.0, D_G = [0.0], D_M = [0.0], D_A = [0.0], D_R = [0.0], D_h = [0.0], y_G = 1.0, y_M = 1.0, y_A = 1.0, y_R = 1.0, h_z = 0.0, h_S = 0.0, cum_repro = 1.0, age = 0.0, cohort = 0.0, dead = 0.0, causeofdeath = 0.0), glb = (X_p = 1200.0, C_W = [0.0], N_tot = 1.0)), (agn = (X_emb = 0.0, S = 0.0, S_0 = 0.0, H = 0.0, H_b = 0.0, R = 0.0, f_X = 0.0, I_emb = 0.0, I_p = 0.0, I = 0.0, A = 0.0, M = 0.0, J = 0.0, Q = 0.0, D_G = [0.0], D_M = [0.0], D_A = [0.0], D_R = [0.0], D_h = [0.0], y_G = 0.0, y_M = 0.0, y_A = 0.0, y_R = 0.0, h_z = 0.0, h_S = 0.0, cum_repro = 0.0, age = 0.0, cohort = 0.0, dead = 0.0, causeofdeath = 0.0), glb = (X_p = 0.0, C_W = [0.0], N_tot = 0.0)), 1)"
      ]
     },
     "metadata": {},
     "output_type": "display_data"
    }
   ],
   "source": [
    "abm = ABM(ABMParamCollection(); execute = false)\n",
    "agent = DEBAgent(abm)"
   ]
  },
  {
   "cell_type": "markdown",
   "metadata": {},
   "source": [
    "## Side quest: Are nested structs slower?"
   ]
  },
  {
   "cell_type": "code",
   "execution_count": 25,
   "metadata": {},
   "outputs": [
    {
     "data": {
      "text/plain": [
       "BenchmarkTools.Trial: 10000 samples with 998 evaluations.\n",
       " Range \u001b[90m(\u001b[39m\u001b[36m\u001b[1mmin\u001b[22m\u001b[39m … \u001b[35mmax\u001b[39m\u001b[90m):  \u001b[39m\u001b[36m\u001b[1m21.343 ns\u001b[22m\u001b[39m … \u001b[35m 5.375 μs\u001b[39m  \u001b[90m┊\u001b[39m GC \u001b[90m(\u001b[39mmin … max\u001b[90m): \u001b[39m0.00% … 99.08%\n",
       " Time  \u001b[90m(\u001b[39m\u001b[34m\u001b[1mmedian\u001b[22m\u001b[39m\u001b[90m):     \u001b[39m\u001b[34m\u001b[1m22.745 ns              \u001b[22m\u001b[39m\u001b[90m┊\u001b[39m GC \u001b[90m(\u001b[39mmedian\u001b[90m):    \u001b[39m0.00%\n",
       " Time  \u001b[90m(\u001b[39m\u001b[32m\u001b[1mmean\u001b[22m\u001b[39m ± \u001b[32mσ\u001b[39m\u001b[90m):   \u001b[39m\u001b[32m\u001b[1m25.751 ns\u001b[22m\u001b[39m ± \u001b[32m72.503 ns\u001b[39m  \u001b[90m┊\u001b[39m GC \u001b[90m(\u001b[39mmean ± σ\u001b[90m):  \u001b[39m4.20% ±  1.69%\n",
       "\n",
       "  \u001b[39m▃\u001b[39m▅\u001b[39m█\u001b[39m█\u001b[34m▆\u001b[39m\u001b[39m▆\u001b[39m▅\u001b[39m \u001b[39m \u001b[39m \u001b[39m \u001b[39m \u001b[32m \u001b[39m\u001b[39m \u001b[39m \u001b[39m▁\u001b[39m▂\u001b[39m▄\u001b[39m▄\u001b[39m▅\u001b[39m▅\u001b[39m▄\u001b[39m▄\u001b[39m▃\u001b[39m▂\u001b[39m \u001b[39m \u001b[39m \u001b[39m \u001b[39m \u001b[39m \u001b[39m \u001b[39m \u001b[39m \u001b[39m \u001b[39m▁\u001b[39m \u001b[39m \u001b[39m \u001b[39m \u001b[39m \u001b[39m \u001b[39m \u001b[39m \u001b[39m \u001b[39m \u001b[39m \u001b[39m \u001b[39m \u001b[39m \u001b[39m \u001b[39m \u001b[39m \u001b[39m \u001b[39m \u001b[39m \u001b[39m \u001b[39m \u001b[39m \u001b[39m \u001b[39m▂\n",
       "  \u001b[39m█\u001b[39m█\u001b[39m█\u001b[39m█\u001b[34m█\u001b[39m\u001b[39m█\u001b[39m█\u001b[39m▅\u001b[39m▇\u001b[39m▅\u001b[39m▅\u001b[39m▆\u001b[32m▆\u001b[39m\u001b[39m█\u001b[39m█\u001b[39m█\u001b[39m█\u001b[39m█\u001b[39m█\u001b[39m█\u001b[39m█\u001b[39m█\u001b[39m█\u001b[39m█\u001b[39m█\u001b[39m█\u001b[39m█\u001b[39m▇\u001b[39m▇\u001b[39m▇\u001b[39m▇\u001b[39m▇\u001b[39m█\u001b[39m▇\u001b[39m▇\u001b[39m█\u001b[39m█\u001b[39m▆\u001b[39m▇\u001b[39m▇\u001b[39m▅\u001b[39m▆\u001b[39m▄\u001b[39m▄\u001b[39m▁\u001b[39m▃\u001b[39m▃\u001b[39m▅\u001b[39m▃\u001b[39m▄\u001b[39m▆\u001b[39m▅\u001b[39m▃\u001b[39m▅\u001b[39m▅\u001b[39m▆\u001b[39m▆\u001b[39m▅\u001b[39m▅\u001b[39m \u001b[39m█\n",
       "  21.3 ns\u001b[90m      \u001b[39m\u001b[90mHistogram: \u001b[39m\u001b[90m\u001b[1mlog(\u001b[22m\u001b[39m\u001b[90mfrequency\u001b[39m\u001b[90m\u001b[1m)\u001b[22m\u001b[39m\u001b[90m by time\u001b[39m      42.5 ns \u001b[0m\u001b[1m<\u001b[22m\n",
       "\n",
       " Memory estimate\u001b[90m: \u001b[39m\u001b[33m16 bytes\u001b[39m, allocs estimate\u001b[90m: \u001b[39m\u001b[33m1\u001b[39m."
      ]
     },
     "metadata": {},
     "output_type": "display_data"
    }
   ],
   "source": [
    "using BenchmarkTools\n",
    "\n",
    "mutable struct X1\n",
    "    x::Float64\n",
    "end\n",
    "\n",
    "x = X1(1.)\n",
    "\n",
    "@benchmark getproperty(x, :x)"
   ]
  },
  {
   "cell_type": "code",
   "execution_count": 28,
   "metadata": {},
   "outputs": [
    {
     "data": {
      "text/plain": [
       "BenchmarkTools.Trial: 10000 samples with 993 evaluations.\n",
       " Range \u001b[90m(\u001b[39m\u001b[36m\u001b[1mmin\u001b[22m\u001b[39m … \u001b[35mmax\u001b[39m\u001b[90m):  \u001b[39m\u001b[36m\u001b[1m39.074 ns\u001b[22m\u001b[39m … \u001b[35m845.015 ns\u001b[39m  \u001b[90m┊\u001b[39m GC \u001b[90m(\u001b[39mmin … max\u001b[90m): \u001b[39m0.00% … 92.13%\n",
       " Time  \u001b[90m(\u001b[39m\u001b[34m\u001b[1mmedian\u001b[22m\u001b[39m\u001b[90m):     \u001b[39m\u001b[34m\u001b[1m40.081 ns               \u001b[22m\u001b[39m\u001b[90m┊\u001b[39m GC \u001b[90m(\u001b[39mmedian\u001b[90m):    \u001b[39m0.00%\n",
       " Time  \u001b[90m(\u001b[39m\u001b[32m\u001b[1mmean\u001b[22m\u001b[39m ± \u001b[32mσ\u001b[39m\u001b[90m):   \u001b[39m\u001b[32m\u001b[1m42.405 ns\u001b[22m\u001b[39m ± \u001b[32m 15.522 ns\u001b[39m  \u001b[90m┊\u001b[39m GC \u001b[90m(\u001b[39mmean ± σ\u001b[90m):  \u001b[39m0.54% ±  1.59%\n",
       "\n",
       "  \u001b[39m▅\u001b[39m█\u001b[34m▇\u001b[39m\u001b[39m▄\u001b[39m \u001b[39m \u001b[39m \u001b[32m \u001b[39m\u001b[39m \u001b[39m \u001b[39m \u001b[39m▁\u001b[39m▂\u001b[39m▁\u001b[39m \u001b[39m \u001b[39m \u001b[39m \u001b[39m \u001b[39m \u001b[39m \u001b[39m▁\u001b[39m \u001b[39m \u001b[39m \u001b[39m \u001b[39m \u001b[39m \u001b[39m \u001b[39m \u001b[39m \u001b[39m \u001b[39m \u001b[39m \u001b[39m \u001b[39m \u001b[39m \u001b[39m \u001b[39m \u001b[39m \u001b[39m \u001b[39m \u001b[39m \u001b[39m \u001b[39m \u001b[39m \u001b[39m \u001b[39m \u001b[39m \u001b[39m \u001b[39m \u001b[39m \u001b[39m \u001b[39m \u001b[39m \u001b[39m \u001b[39m \u001b[39m \u001b[39m▁\u001b[39m \u001b[39m \u001b[39m▁\n",
       "  \u001b[39m█\u001b[39m█\u001b[34m█\u001b[39m\u001b[39m█\u001b[39m▇\u001b[39m▇\u001b[39m▇\u001b[32m█\u001b[39m\u001b[39m█\u001b[39m█\u001b[39m█\u001b[39m█\u001b[39m█\u001b[39m█\u001b[39m█\u001b[39m▆\u001b[39m▆\u001b[39m▆\u001b[39m▆\u001b[39m▆\u001b[39m█\u001b[39m█\u001b[39m▆\u001b[39m▆\u001b[39m▆\u001b[39m▅\u001b[39m▅\u001b[39m▅\u001b[39m▆\u001b[39m▅\u001b[39m▅\u001b[39m▃\u001b[39m▅\u001b[39m▄\u001b[39m▅\u001b[39m▅\u001b[39m▅\u001b[39m▄\u001b[39m▅\u001b[39m▅\u001b[39m▅\u001b[39m▅\u001b[39m▄\u001b[39m▅\u001b[39m▆\u001b[39m▆\u001b[39m▆\u001b[39m▅\u001b[39m▅\u001b[39m▆\u001b[39m▄\u001b[39m▆\u001b[39m▅\u001b[39m▅\u001b[39m▆\u001b[39m▅\u001b[39m▆\u001b[39m▇\u001b[39m█\u001b[39m█\u001b[39m \u001b[39m█\n",
       "  39.1 ns\u001b[90m       \u001b[39m\u001b[90mHistogram: \u001b[39m\u001b[90m\u001b[1mlog(\u001b[22m\u001b[39m\u001b[90mfrequency\u001b[39m\u001b[90m\u001b[1m)\u001b[22m\u001b[39m\u001b[90m by time\u001b[39m      69.7 ns \u001b[0m\u001b[1m<\u001b[22m\n",
       "\n",
       " Memory estimate\u001b[90m: \u001b[39m\u001b[33m16 bytes\u001b[39m, allocs estimate\u001b[90m: \u001b[39m\u001b[33m1\u001b[39m."
      ]
     },
     "metadata": {},
     "output_type": "display_data"
    }
   ],
   "source": [
    "using BenchmarkTools\n",
    "\n",
    "mutable struct X2\n",
    "    x1::X1\n",
    "end\n",
    "\n",
    "x = X2(X1(1.))\n",
    "\n",
    "@benchmark getproperty(x.x1, :x)"
   ]
  },
  {
   "cell_type": "code",
   "execution_count": 30,
   "metadata": {},
   "outputs": [
    {
     "data": {
      "text/plain": [
       "BenchmarkTools.Trial: 10000 samples with 974 evaluations.\n",
       " Range \u001b[90m(\u001b[39m\u001b[36m\u001b[1mmin\u001b[22m\u001b[39m … \u001b[35mmax\u001b[39m\u001b[90m):  \u001b[39m\u001b[36m\u001b[1m76.283 ns\u001b[22m\u001b[39m … \u001b[35m915.708 ns\u001b[39m  \u001b[90m┊\u001b[39m GC \u001b[90m(\u001b[39mmin … max\u001b[90m): \u001b[39m0.00% … 89.36%\n",
       " Time  \u001b[90m(\u001b[39m\u001b[34m\u001b[1mmedian\u001b[22m\u001b[39m\u001b[90m):     \u001b[39m\u001b[34m\u001b[1m78.439 ns               \u001b[22m\u001b[39m\u001b[90m┊\u001b[39m GC \u001b[90m(\u001b[39mmedian\u001b[90m):    \u001b[39m0.00%\n",
       " Time  \u001b[90m(\u001b[39m\u001b[32m\u001b[1mmean\u001b[22m\u001b[39m ± \u001b[32mσ\u001b[39m\u001b[90m):   \u001b[39m\u001b[32m\u001b[1m82.042 ns\u001b[22m\u001b[39m ± \u001b[32m 17.033 ns\u001b[39m  \u001b[90m┊\u001b[39m GC \u001b[90m(\u001b[39mmean ± σ\u001b[90m):  \u001b[39m0.28% ±  1.53%\n",
       "\n",
       "  \u001b[39m▅\u001b[39m█\u001b[34m█\u001b[39m\u001b[39m▄\u001b[39m▁\u001b[39m▂\u001b[32m▃\u001b[39m\u001b[39m▄\u001b[39m▃\u001b[39m▂\u001b[39m▃\u001b[39m▄\u001b[39m▂\u001b[39m \u001b[39m \u001b[39m \u001b[39m \u001b[39m \u001b[39m \u001b[39m \u001b[39m \u001b[39m▁\u001b[39m▁\u001b[39m \u001b[39m \u001b[39m \u001b[39m \u001b[39m \u001b[39m \u001b[39m \u001b[39m \u001b[39m \u001b[39m \u001b[39m \u001b[39m \u001b[39m \u001b[39m \u001b[39m \u001b[39m \u001b[39m \u001b[39m \u001b[39m \u001b[39m \u001b[39m \u001b[39m \u001b[39m \u001b[39m \u001b[39m \u001b[39m \u001b[39m \u001b[39m \u001b[39m \u001b[39m \u001b[39m \u001b[39m \u001b[39m \u001b[39m \u001b[39m \u001b[39m \u001b[39m \u001b[39m \u001b[39m▂\n",
       "  \u001b[39m█\u001b[39m█\u001b[34m█\u001b[39m\u001b[39m█\u001b[39m█\u001b[39m█\u001b[32m█\u001b[39m\u001b[39m█\u001b[39m█\u001b[39m█\u001b[39m█\u001b[39m█\u001b[39m█\u001b[39m█\u001b[39m▇\u001b[39m▇\u001b[39m█\u001b[39m▇\u001b[39m▆\u001b[39m▇\u001b[39m█\u001b[39m█\u001b[39m█\u001b[39m▆\u001b[39m▆\u001b[39m▅\u001b[39m▅\u001b[39m▇\u001b[39m▅\u001b[39m▆\u001b[39m▆\u001b[39m▆\u001b[39m▆\u001b[39m▆\u001b[39m▆\u001b[39m▆\u001b[39m▅\u001b[39m▅\u001b[39m▅\u001b[39m▅\u001b[39m▅\u001b[39m▅\u001b[39m▅\u001b[39m▅\u001b[39m▅\u001b[39m▅\u001b[39m▄\u001b[39m▄\u001b[39m▄\u001b[39m▄\u001b[39m▄\u001b[39m▄\u001b[39m▄\u001b[39m▄\u001b[39m▄\u001b[39m▅\u001b[39m▅\u001b[39m▅\u001b[39m▄\u001b[39m▅\u001b[39m \u001b[39m█\n",
       "  76.3 ns\u001b[90m       \u001b[39m\u001b[90mHistogram: \u001b[39m\u001b[90m\u001b[1mlog(\u001b[22m\u001b[39m\u001b[90mfrequency\u001b[39m\u001b[90m\u001b[1m)\u001b[22m\u001b[39m\u001b[90m by time\u001b[39m       134 ns \u001b[0m\u001b[1m<\u001b[22m\n",
       "\n",
       " Memory estimate\u001b[90m: \u001b[39m\u001b[33m16 bytes\u001b[39m, allocs estimate\u001b[90m: \u001b[39m\u001b[33m1\u001b[39m."
      ]
     },
     "metadata": {},
     "output_type": "display_data"
    }
   ],
   "source": [
    "using BenchmarkTools\n",
    "\n",
    "mutable struct X4\n",
    "    x3::X3\n",
    "end\n",
    "\n",
    "x = X4(X3(X2(X1(1.))))\n",
    "\n",
    "@benchmark getproperty(x.x3.x2.x1, :x)"
   ]
  },
  {
   "cell_type": "code",
   "execution_count": 6,
   "metadata": {},
   "outputs": [
    {
     "data": {
      "text/plain": [
       "record!"
      ]
     },
     "metadata": {},
     "output_type": "display_data"
    }
   ],
   "source": [
    "\"\"\"\n",
    "Update an agent's reference to global state variables.\n",
    "\"\"\"\n",
    "function update_glb!(agent::AbstractAgent, abm::AbstractABM)\n",
    "    map!(x -> x, agent.u.glb, abm.u) \n",
    "end\n",
    "\n",
    "\"\"\"\n",
    "step!(agent::AbstractAgent, abm::AbstractABM; odefuncs::Vector{Function}, rulefuncs::Vector{Function})\n",
    "\n",
    "Generic definition of agent step. \\n\n",
    "This definition is generic, so that the function body does not have to be modified \n",
    "in order to simulate different models.\n",
    "\"\"\"\n",
    "function step!(agent::AbstractAgent, abm::ABM)\n",
    "    du, u, p = agent.du, agent.u, agent.p # unpack agent substates, derivatives and parameters\n",
    "    t = abm.t\n",
    "\n",
    "    update_glb!(agent, abm) # update references to global state variables\n",
    "    \n",
    "    for func! in agent.p.spc.rulefuncs # apply all rule-based functions\n",
    "        func!(agent, abm)\n",
    "    end\n",
    "\n",
    "    for func! in agent.p.spc.odefuncs # apply all ODE-based functions\n",
    "        func!(du, u, p, t) \n",
    "    end\n",
    "\n",
    "\n",
    "    map!(abm.euler, u.agn, du.agn, u.agn) # apply the euler scheme to agent substates\n",
    "end\n",
    "\n",
    "\"\"\"\n",
    "record!(agent::DEBAgent, abm::ABM)\n",
    "\n",
    "Record agent output (only if `p.glb.recordagentvars == true`).\n",
    "\"\"\"\n",
    "function record!(agent::AbstractAgent, abm::ABM)\n",
    "    if abm.p.glb.recordagentvars && isapprox(abm.t%abm.saveat, 0, atol = abm.dt)\n",
    "        push!(\n",
    "            abm.aout, \n",
    "            (\n",
    "                t = abm.t, \n",
    "                AgentID = agent.AgentID, \n",
    "                u = map(x -> eval(:($agent.$(x))), agent.p.spc.adata)\n",
    "                )\n",
    "        )\n",
    "    end\n",
    "end"
   ]
  },
  {
   "cell_type": "code",
   "execution_count": 7,
   "metadata": {},
   "outputs": [
    {
     "data": {
      "text/plain": [
       "run!"
      ]
     },
     "metadata": {},
     "output_type": "display_data"
    }
   ],
   "source": [
    "\"\"\"\n",
    "record!(abm::ABM)\n",
    "\n",
    "Record model-level output.\n",
    "\"\"\"\n",
    "function record!(abm::ABM)\n",
    "    if isapprox(abm.t%abm.saveat, 0, atol = abm.dt)\n",
    "        push!(abm.mout, (t = abm.t, u = u = map(x -> eval(:(abm.$x)), abm.p.glb.adata)))\n",
    "    end\n",
    "end\n",
    "\n",
    "\"\"\"\n",
    "Run the ABM.\n",
    "\"\"\"\n",
    "function run!(abm::AbstractABM)\n",
    "    while abm.t <= abm.p.glb.t_max\n",
    "        step!(abm)\n",
    "    end\n",
    "end"
   ]
  },
  {
   "cell_type": "code",
   "execution_count": 8,
   "metadata": {},
   "outputs": [
    {
     "data": {
      "text/plain": [
       "prepare_output"
      ]
     },
     "metadata": {},
     "output_type": "display_data"
    }
   ],
   "source": [
    "\"\"\"\n",
    "    prepare_output(abm::AbstractABM)\n",
    "\n",
    "Prepare ABM output, converting Vectors of ComponentArrays into DataFrames. \n",
    "Two separate DataFrames are returned containing global and agent-level state variables, respectively.\n",
    "\"\"\"\n",
    "function prepare_output(abm::AbstractABM)\n",
    "\n",
    "    mout = DataFrame(hcat([[x.t] for x in abm.mout]...)', [:t]) |> \n",
    "    x-> hcat(x, DataFrame(hcat([m.u for m in abm.mout]...)', extract_colnames(abm.mout[1].u)))\n",
    "    \n",
    "    if abm.p.glb.recordagentvars\n",
    "        aout = DataFrame(hcat([[x.t, x.AgentID] for x in abm.aout]...)', [:t, :AgentID]) |> \n",
    "        x-> hcat(x, DataFrame(hcat([a.u for a in abm.aout]...)', extract_colnames(abm.aout[1].u)))\n",
    "    else\n",
    "        aout = DataFrame()\n",
    "    end\n",
    "\n",
    "    return mout, aout\n",
    "end\n"
   ]
  },
  {
   "cell_type": "code",
   "execution_count": 9,
   "metadata": {},
   "outputs": [
    {
     "data": {
      "text/plain": [
       "1-element Vector{Expr}:\n",
       " :(S.x)"
      ]
     },
     "metadata": {},
     "output_type": "display_data"
    }
   ],
   "source": [
    "Expr[:(S.x)]"
   ]
  },
  {
   "cell_type": "code",
   "execution_count": 17,
   "metadata": {},
   "outputs": [
    {
     "name": "stdout",
     "output_type": "stream",
     "text": [
      "\u001b[91m\u001b[1mError During Test\u001b[22m\u001b[39m at \u001b[39m\u001b[1mc:\\Users\\simon\\Documents\\Julia\\Hydra\\test\\abm.ipynb:1\u001b[22m\n",
      "  Test threw exception\n",
      "  Expression: begin\n",
      "    #= c:\\Users\\simon\\Documents\\Julia\\Hydra\\test\\abm.ipynb:2 =#\n",
      "    theta = ABMParamCollection()\n",
      "    #= c:\\Users\\simon\\Documents\\Julia\\Hydra\\test\\abm.ipynb:3 =#\n",
      "    Yhat = ABM(theta)\n",
      "    #= c:\\Users\\simon\\Documents\\Julia\\Hydra\\test\\abm.ipynb:5 =#\n",
      "    true\n",
      "end\n",
      "  MethodError: no method matching getproperty(::DEBAgent, ::Expr)\n",
      "  \n",
      "  \u001b[0mClosest candidates are:\n",
      "  \u001b[0m  getproperty(::Any, \u001b[91m::Symbol\u001b[39m, \u001b[91m::Symbol\u001b[39m)\n",
      "  \u001b[0m\u001b[90m   @\u001b[39m \u001b[90mBase\u001b[39m \u001b[90m\u001b[4mBase.jl:58\u001b[24m\u001b[39m\n",
      "  \u001b[0m  getproperty(::Any, \u001b[91m::Symbol\u001b[39m)\n",
      "  \u001b[0m\u001b[90m   @\u001b[39m \u001b[90mBase\u001b[39m \u001b[90m\u001b[4mBase.jl:37\u001b[24m\u001b[39m\n",
      "  \n",
      "  Stacktrace:\n",
      "    [1] top-level scope\n",
      "  \u001b[90m    @\u001b[39m \u001b[90m\u001b[4mnone:1\u001b[24m\u001b[39m\n",
      "    [2] \u001b[0m\u001b[1meval\u001b[22m\n",
      "  \u001b[90m    @\u001b[39m \u001b[90m.\\\u001b[39m\u001b[90m\u001b[4mboot.jl:385\u001b[24m\u001b[39m\u001b[90m [inlined]\u001b[39m\n",
      "    [3] \u001b[0m\u001b[1meval\u001b[22m\n",
      "  \u001b[90m    @\u001b[39m \u001b[90m.\\\u001b[39m\u001b[90m\u001b[4mclient.jl:491\u001b[24m\u001b[39m\u001b[90m [inlined]\u001b[39m\n",
      "    [4] \u001b[0m\u001b[1m(::var\"#90#91\"{DEBAgent})\u001b[22m\u001b[0m\u001b[1m(\u001b[22m\u001b[90mx\u001b[39m::\u001b[0mExpr\u001b[0m\u001b[1m)\u001b[22m\n",
      "  \u001b[90m    @\u001b[39m \u001b[36mMain\u001b[39m \u001b[90mc:\\Users\\simon\\Documents\\Julia\\Hydra\\test\\\u001b[39m\u001b[90m\u001b[4mabm.ipynb:45\u001b[24m\u001b[39m\n",
      "    [5] \u001b[0m\u001b[1miterate\u001b[22m\n",
      "  \u001b[90m    @\u001b[39m \u001b[90m.\\\u001b[39m\u001b[90m\u001b[4mgenerator.jl:47\u001b[24m\u001b[39m\u001b[90m [inlined]\u001b[39m\n",
      "    [6] \u001b[0m\u001b[1m_collect\u001b[22m\u001b[0m\u001b[1m(\u001b[22m\u001b[90mc\u001b[39m::\u001b[0mVector\u001b[90m{Expr}\u001b[39m, \u001b[90mitr\u001b[39m::\u001b[0mBase.Generator\u001b[90m{Vector{Expr}, var\"#90#91\"{DEBAgent}}\u001b[39m, ::\u001b[0mBase.EltypeUnknown, \u001b[90misz\u001b[39m::\u001b[0mBase.HasShape\u001b[90m{1}\u001b[39m\u001b[0m\u001b[1m)\u001b[22m\n",
      "  \u001b[90m    @\u001b[39m \u001b[90mBase\u001b[39m \u001b[90m.\\\u001b[39m\u001b[90m\u001b[4marray.jl:854\u001b[24m\u001b[39m\n",
      "    [7] \u001b[0m\u001b[1mcollect_similar\u001b[22m\u001b[0m\u001b[1m(\u001b[22m\u001b[90mcont\u001b[39m::\u001b[0mVector\u001b[90m{Expr}\u001b[39m, \u001b[90mitr\u001b[39m::\u001b[0mBase.Generator\u001b[90m{Vector{Expr}, var\"#90#91\"{DEBAgent}}\u001b[39m\u001b[0m\u001b[1m)\u001b[22m\n",
      "  \u001b[90m    @\u001b[39m \u001b[90mBase\u001b[39m \u001b[90m.\\\u001b[39m\u001b[90m\u001b[4marray.jl:763\u001b[24m\u001b[39m\n",
      "    [8] \u001b[0m\u001b[1mmap\u001b[22m\u001b[0m\u001b[1m(\u001b[22m\u001b[90mf\u001b[39m::\u001b[0mFunction, \u001b[90mA\u001b[39m::\u001b[0mVector\u001b[90m{Expr}\u001b[39m\u001b[0m\u001b[1m)\u001b[22m\n",
      "  \u001b[90m    @\u001b[39m \u001b[90mBase\u001b[39m \u001b[90m.\\\u001b[39m\u001b[90m\u001b[4mabstractarray.jl:3285\u001b[24m\u001b[39m\n",
      "    [9] \u001b[0m\u001b[1mrecord!\u001b[22m\u001b[0m\u001b[1m(\u001b[22m\u001b[90magent\u001b[39m::\u001b[0mDEBAgent, \u001b[90mabm\u001b[39m::\u001b[0mABM\u001b[0m\u001b[1m)\u001b[22m\n",
      "  \u001b[90m    @\u001b[39m \u001b[36mMain\u001b[39m \u001b[90mc:\\Users\\simon\\Documents\\Julia\\Hydra\\test\\\u001b[39m\u001b[90m\u001b[4mabm.ipynb:40\u001b[24m\u001b[39m\n",
      "   [10] \u001b[0m\u001b[1mstep!\u001b[22m\u001b[0m\u001b[1m(\u001b[22m\u001b[90mabm\u001b[39m::\u001b[0mABM\u001b[0m\u001b[1m)\u001b[22m\n",
      "  \u001b[90m    @\u001b[39m \u001b[36mMain\u001b[39m \u001b[90mc:\\Users\\simon\\Documents\\Julia\\Hydra\\test\\\u001b[39m\u001b[90m\u001b[4mabm.ipynb:40\u001b[24m\u001b[39m\n",
      "   [11] \u001b[0m\u001b[1mrun!\u001b[22m\u001b[0m\u001b[1m(\u001b[22m\u001b[90mabm\u001b[39m::\u001b[0mABM\u001b[0m\u001b[1m)\u001b[22m\n",
      "  \u001b[90m    @\u001b[39m \u001b[36mMain\u001b[39m \u001b[90mc:\\Users\\simon\\Documents\\Julia\\Hydra\\test\\\u001b[39m\u001b[90m\u001b[4mabm.ipynb:17\u001b[24m\u001b[39m\n",
      "   [12] \u001b[0m\u001b[1mABM\u001b[22m\u001b[0m\u001b[1m(\u001b[22m\u001b[90mp\u001b[39m::\u001b[0mABMParamCollection; \u001b[90mdt\u001b[39m::\u001b[0mFloat64, \u001b[90msaveat\u001b[39m::\u001b[0mInt64, \u001b[90mexecute\u001b[39m::\u001b[0mBool\u001b[0m\u001b[1m)\u001b[22m\n",
      "  \u001b[90m    @\u001b[39m \u001b[36mMain\u001b[39m \u001b[90mc:\\Users\\simon\\Documents\\Julia\\Hydra\\test\\\u001b[39m\u001b[90m\u001b[4mabm.ipynb:50\u001b[24m\u001b[39m\n",
      "   [13] \u001b[0m\u001b[1mABM\u001b[22m\u001b[0m\u001b[1m(\u001b[22m\u001b[90mp\u001b[39m::\u001b[0mABMParamCollection\u001b[0m\u001b[1m)\u001b[22m\n",
      "  \u001b[90m    @\u001b[39m \u001b[36mMain\u001b[39m \u001b[90mc:\\Users\\simon\\Documents\\Julia\\Hydra\\test\\\u001b[39m\u001b[90m\u001b[4mabm.ipynb:24\u001b[24m\u001b[39m\n",
      "   [14] \u001b[0m\u001b[1mmacro expansion\u001b[22m\n",
      "  \u001b[90m    @\u001b[39m \u001b[90mc:\\Users\\simon\\Documents\\Julia\\Hydra\\test\\\u001b[39m\u001b[90m\u001b[4mabm.ipynb:3\u001b[24m\u001b[39m\u001b[90m [inlined]\u001b[39m\n",
      "   [15] \u001b[0m\u001b[1mmacro expansion\u001b[22m\n",
      "  \u001b[90m    @\u001b[39m \u001b[90mC:\\Users\\simon\\AppData\\Local\\Programs\\Julia-1.10.1\\share\\julia\\stdlib\\v1.10\\Test\\src\\\u001b[39m\u001b[90m\u001b[4mTest.jl:669\u001b[24m\u001b[39m\u001b[90m [inlined]\u001b[39m\n",
      "   [16] top-level scope\n",
      "  \u001b[90m    @\u001b[39m \u001b[90mc:\\Users\\simon\\Documents\\Julia\\Hydra\\test\\\u001b[39m\u001b[90m\u001b[4mabm.ipynb:1\u001b[24m\u001b[39m\n"
     ]
    },
    {
     "ename": "Test.FallbackTestSetException",
     "evalue": "Test.FallbackTestSetException(\"There was an error during testing\")",
     "output_type": "error",
     "traceback": [
      "Test.FallbackTestSetException(\"There was an error during testing\")\n",
      "\n",
      "Stacktrace:\n",
      " [1] record(ts::Test.FallbackTestSet, t::Union{Test.Error, Test.Fail})\n",
      "   @ Test C:\\Users\\simon\\AppData\\Local\\Programs\\Julia-1.10.1\\share\\julia\\stdlib\\v1.10\\Test\\src\\Test.jl:1000\n",
      " [2] do_test(result::Test.ExecutionResult, orig_expr::Any)\n",
      "   @ Test C:\\Users\\simon\\AppData\\Local\\Programs\\Julia-1.10.1\\share\\julia\\stdlib\\v1.10\\Test\\src\\Test.jl:705\n",
      " [3] macro expansion\n",
      "   @ C:\\Users\\simon\\AppData\\Local\\Programs\\Julia-1.10.1\\share\\julia\\stdlib\\v1.10\\Test\\src\\Test.jl:672 [inlined]\n",
      " [4] top-level scope\n",
      "   @ c:\\Users\\simon\\Documents\\Julia\\Hydra\\test\\abm.ipynb:1"
     ]
    }
   ],
   "source": [
    "@test begin\n",
    "    theta = ABMParamCollection()\n",
    "    Yhat = ABM(theta)\n",
    "\n",
    "    true\n",
    "end"
   ]
  },
  {
   "cell_type": "code",
   "execution_count": 11,
   "metadata": {},
   "outputs": [],
   "source": []
  },
  {
   "cell_type": "code",
   "execution_count": 12,
   "metadata": {},
   "outputs": [],
   "source": []
  },
  {
   "cell_type": "code",
   "execution_count": 13,
   "metadata": {},
   "outputs": [],
   "source": []
  },
  {
   "cell_type": "code",
   "execution_count": 14,
   "metadata": {},
   "outputs": [],
   "source": []
  },
  {
   "cell_type": "code",
   "execution_count": 15,
   "metadata": {},
   "outputs": [],
   "source": []
  }
 ],
 "metadata": {
  "kernelspec": {
   "display_name": "Julia 1.10.1",
   "language": "julia",
   "name": "julia-1.10"
  },
  "language_info": {
   "file_extension": ".jl",
   "mimetype": "application/julia",
   "name": "julia",
   "version": "1.10.1"
  }
 },
 "nbformat": 4,
 "nbformat_minor": 2
}
