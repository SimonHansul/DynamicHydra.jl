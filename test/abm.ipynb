{
 "cells": [
  {
   "cell_type": "code",
   "execution_count": 1,
   "metadata": {},
   "outputs": [
    {
     "name": "stderr",
     "output_type": "stream",
     "text": [
      "┌ Info: Loading packages\n",
      "└ @ Main c:\\Users\\simon\\Documents\\Julia\\Hydra\\test\\abm.ipynb:1\n",
      "\u001b[32m\u001b[1m  Activating\u001b[22m\u001b[39m project at `c:\\Users\\simon\\Documents\\Julia\\Hydra\\test`\n"
     ]
    },
    {
     "data": {
      "text/plain": [
       "@replicates"
      ]
     },
     "metadata": {},
     "output_type": "display_data"
    }
   ],
   "source": [
    "@info(\"Loading packages\")\n",
    "using Pkg; Pkg.activate(\"../test\")\n",
    "using Plots, StatsPlots, Plots.Measures\n",
    "using StatsBase\n",
    "using Glob\n",
    "using DataFrames, DataFramesMeta\n",
    "using ProgressMeter\n",
    "default(leg = false, lw = 1.5)\n",
    "\n",
    "using ComponentArrays, StaticArrays\n",
    "using Test\n",
    "using Parameters\n",
    "using Distributions\n",
    "using OrdinaryDiffEq\n",
    "\n",
    "# establishing type hierarchy\n",
    "abstract type AbstractParams end\n",
    "abstract type AbstractParamCollection end # an AbstractParamCollection contain a defined set of multiple AbstractParams instances\n",
    "abstract type AbstractSpeciesParams <: AbstractParams end\n",
    "abstract type AbstractGlobalODEParams <: AbstractParams end\n",
    "abstract type AbstractABM end\n",
    "abstract type AbstractAgent end\n",
    "\n",
    "include(\"../src/DoseResponse.jl\")\n",
    "include(\"../src/Params.jl\")\n",
    "include(\"../src/Solvers.jl\")\n",
    "include(\"../src/StateVars.jl\")\n",
    "include(\"../src/IO.jl\")\n",
    "include(\"../src/ModelFunctions.jl\")\n",
    "include(\"../src/DEBODE.jl\")\n",
    "include(\"../src/ImpliedTraits.jl\")\n",
    "include(\"../src/Macros.jl\")"
   ]
  },
  {
   "cell_type": "markdown",
   "metadata": {},
   "source": [
    "## ABM"
   ]
  },
  {
   "cell_type": "code",
   "execution_count": 3,
   "metadata": {},
   "outputs": [
    {
     "data": {
      "text/plain": [
       "ABM"
      ]
     },
     "metadata": {},
     "output_type": "display_data"
    }
   ],
   "source": [
    "abstract type AbstractABM end\n",
    "\n",
    "\"\"\"\n",
    "Currently assumes that all agents are represented by a single agent type `AgentType`.\n",
    "\"\"\"\n",
    "mutable struct ABM <: AbstractABM\n",
    "    p::AbstractParamCollection # parameter collection\n",
    "    t::Float64 # current simulation time\n",
    "    dt::Float64 # timestep\n",
    "    euler::Function # definition of the euler function for the given dt\n",
    "    saveat::Float64\n",
    "    \n",
    "    u::ComponentVector # global state variables\n",
    "    du::ComponentVector # global derivatives\n",
    "\n",
    "    AgentID_count::Int64 # cumulative number of agents in the simulation\n",
    "    agents::AbstractVector # population of agents\n",
    "    aout::AbstractVector # agent output\n",
    "    mout::AbstractVector # model output\n",
    "\n",
    "    \"\"\"\n",
    "    Instantiate ABM from param collection `p`. \n",
    "    \"\"\"\n",
    "    function ABM(\n",
    "        p::A; \n",
    "        dt = 1/24, \n",
    "        saveat = 1,\n",
    "        execute = true\n",
    "        ) where A <: AbstractParamCollection\n",
    "\n",
    "        abm = new() # initialize ABM object\n",
    "\n",
    "        abm.p = p # store the parameters\n",
    "        abm.t = 0. # initialize simulation time\n",
    "        abm.dt = dt # timestep is given as keyword argument\n",
    "        abm.euler = defeuler(dt) # Euler function for the given dt\n",
    "        abm.saveat = saveat\n",
    "        \n",
    "        abm.u = init_substates_global(p) # initialize the global substates\n",
    "        abm.du = similar(abm.u) # initialize the global derivatives\n",
    "        abm.du.X_p = 0.\n",
    "        abm.du.C_W .= 0.\n",
    "        \n",
    "        abm.AgentID_count = 0 # set agent count\n",
    "        initialize_agents!(abm) # initailize the population of agents\n",
    "        abm.aout = [] # initialize agent output\n",
    "        abm.mout = [] # initialize model output\n",
    "\n",
    "        if execute\n",
    "            run!(abm) # run the model\n",
    "\n",
    "            return prepare_output(abm) # prepare output in dataframes and return\n",
    "        else\n",
    "            return abm\n",
    "        end\n",
    "    end\n",
    "end"
   ]
  },
  {
   "cell_type": "code",
   "execution_count": 4,
   "metadata": {},
   "outputs": [
    {
     "data": {
      "text/plain": [
       "step!"
      ]
     },
     "metadata": {},
     "output_type": "display_data"
    }
   ],
   "source": [
    "using Random\n",
    "\n",
    "\"\"\"\n",
    "step!(abm::ABM; showprogress = false)\n",
    "\n",
    "Execution of a generic ABM step, following the schedule: \n",
    "\n",
    "1. Shuffle agents\n",
    "2. Calculate global derivatives\n",
    "3. Calculate agent derivatives\n",
    "4. Update agent states\n",
    "5. Record agent states\n",
    "6. Update global states\n",
    "7. Record global states\n",
    "\n",
    "It is important that the agent steps occur between calculation of the global derivatives and \n",
    "updating the global states, because global derivatives which may be influenced by agent derivatives \n",
    "are initialized during calculation of the global states and may be mutated by the agent step. <br>\n",
    "Changing this order will lead to erroneous computation of the interaction between agents and the environment.\n",
    "\n",
    "---\n",
    "\n",
    "args\n",
    "\n",
    "-\n",
    "\n",
    "\n",
    "---\n",
    "\n",
    "kwargs \n",
    "\n",
    "- showprogress: shows a progress\n",
    "\n",
    "\"\"\"\n",
    "function step!(abm::ABM; showprogress = false)\n",
    "\n",
    "    du, u, p = abm.du, abm.u, abm.p\n",
    "    t = abm.t\n",
    "\n",
    "    shuffle!(abm.agents)\n",
    "\n",
    "    for func! in abm.p.glb.odefuncs # execute global ODE-based functions\n",
    "        func!(du, u, p, t)\n",
    "    end\n",
    "\n",
    "    for func! in abm.p.glb.rulefuncs # execute global rule-based functions\n",
    "        func!(abm)\n",
    "    end\n",
    "    \n",
    "    for a in abm.agents # for every agent\n",
    "        step!(a, abm) # execute agent steps\n",
    "        record!(a, abm) # record agent data\n",
    "    end\n",
    "\n",
    "    map!(abm.euler, u, du, u) # apply the euler scheme to global states\n",
    "    record!(abm) # record global states\n",
    "    filter!(a -> a.u.agn.dead == false, abm.agents) # remove dead agents\n",
    "\n",
    "    abm.t += abm.dt\n",
    "end\n"
   ]
  },
  {
   "cell_type": "code",
   "execution_count": 5,
   "metadata": {},
   "outputs": [
    {
     "data": {
      "text/plain": [
       "initialize_agents!"
      ]
     },
     "metadata": {},
     "output_type": "display_data"
    }
   ],
   "source": [
    "\"\"\"\n",
    "    init_agents!(abm::AbstractABM)::nothing\n",
    "Initialize the population of \n",
    "\"\"\"\n",
    "function initialize_agents!(abm::AbstractABM)::Nothing\n",
    "\n",
    "    abm.agents = [] # initialize a vector of agents with undefined values and defined length\n",
    "\n",
    "    for i in 1:abm.p.glb.N0 # for the number of initial agents\n",
    "        \n",
    "        push!(abm.agents, abm.p.glb.AgentType(abm)) # initialize an agent and add it to the vector of agents\n",
    "    end\n",
    "\n",
    "    return nothing\n",
    "end"
   ]
  },
  {
   "cell_type": "markdown",
   "metadata": {},
   "source": [
    "## Agent"
   ]
  },
  {
   "cell_type": "code",
   "execution_count": 6,
   "metadata": {},
   "outputs": [
    {
     "name": "stderr",
     "output_type": "stream",
     "text": [
      "WARNING: import of Base.copy into Main conflicts with an existing identifier; ignored.\n"
     ]
    },
    {
     "data": {
      "text/plain": [
       "DEBAgent"
      ]
     },
     "metadata": {},
     "output_type": "display_data"
    }
   ],
   "source": [
    "abstract type AbstractAgent end\n",
    "import Base:copy\n",
    "\n",
    "\n",
    "\"\"\"\n",
    "The definition of a generic AbstractAgent.\n",
    "\"\"\"\n",
    "mutable struct DEBAgent <: AbstractAgent\n",
    "    p::AbstractParamCollection\n",
    "    u::ComponentVector\n",
    "    du::ComponentVector\n",
    "    AgentID::Int64\n",
    "    adata_t::AbstractVector\n",
    "\n",
    "    \"\"\"\n",
    "        DEBAgent(abm::ABM)\n",
    "    \n",
    "    Initialization of a generic DEB agent within ABM structure.\n",
    "    \"\"\"\n",
    "    function DEBAgent(abm::ABM)\n",
    "        a = new()\n",
    "\n",
    "        a.p = copy(abm.p) # parameters; TODO: #29 avoid copying everything\n",
    "        a.p.agn = AgentParams(a.p.spc) # assign agent-level parameters (induces individual variability)\n",
    "        initialize_statevars!(a, abm) # initialize agent-level state variables\n",
    "        a.du = similar(a.u) # initialize agent-level derivatives\n",
    "        a.du.glb = abm.du # reference to global derivatives\n",
    "        a.du.agn = similar(a.u.agn) # derivatives of agent substates have same shape as states\n",
    "        a.AgentID = abm.AgentID_count # assign AgentID\n",
    "        abm.AgentID_count += 1 # increment AgentID counter\n",
    "\n",
    "        aout_t = Vector{Any}(undef, length(abm.p.spc.adata)) #\n",
    "        \n",
    "        return a\n",
    "    end\n",
    "end"
   ]
  },
  {
   "cell_type": "code",
   "execution_count": 15,
   "metadata": {},
   "outputs": [
    {
     "data": {
      "text/plain": [
       "record!"
      ]
     },
     "metadata": {},
     "output_type": "display_data"
    }
   ],
   "source": [
    "\"\"\"\n",
    "Update an agent's reference to global state variables.\n",
    "\"\"\"\n",
    "function update_glb!(agent::AbstractAgent, abm::AbstractABM)\n",
    "    map!(x -> x, agent.u.glb, abm.u) \n",
    "end\n",
    "\n",
    "\"\"\"\n",
    "step!(agent::AbstractAgent, abm::AbstractABM; odefuncs::Vector{Function}, rulefuncs::Vector{Function})\n",
    "\n",
    "Generic definition of agent step. \\n\n",
    "This definition is generic, so that the function body does not have to be modified \n",
    "in order to simulate different models.\n",
    "\"\"\"\n",
    "function step!(agent::AbstractAgent, abm::ABM)\n",
    "    du, u, p = agent.du, agent.u, agent.p # unpack agent substates, derivatives and parameters\n",
    "    t = abm.t\n",
    "\n",
    "    update_glb!(agent, abm) # update references to global state variables\n",
    "    \n",
    "    for func! in agent.p.spc.rulefuncs # apply all rule-based functions\n",
    "        func!(agent, abm)\n",
    "    end\n",
    "\n",
    "    for func! in agent.p.spc.odefuncs # apply all ODE-based functions\n",
    "        func!(du, u, p, t) \n",
    "    end\n",
    "\n",
    "\n",
    "    map!(abm.euler, u.agn, du.agn, u.agn) # apply the euler scheme to agent substates\n",
    "end\n",
    "\n",
    "\"\"\"\n",
    "record!(agent::DEBAgent, abm::ABM)\n",
    "\n",
    "Record agent output (only if `p.glb.recordagentvars == true`).\n",
    "\"\"\"\n",
    "function record!(agent::AbstractAgent, abm::ABM)\n",
    "    if abm.p.glb.recordagentvars && isapprox(abm.t%abm.saveat, 0, atol = abm.dt)\n",
    "        push!(abm.aout, (t = abm.t, AgentID = agent.AgentID, u = deepcopy(agent.u.agn)))\n",
    "    end\n",
    "end\n"
   ]
  },
  {
   "cell_type": "code",
   "execution_count": 20,
   "metadata": {},
   "outputs": [
    {
     "data": {
      "text/plain": [
       "run!"
      ]
     },
     "metadata": {},
     "output_type": "display_data"
    }
   ],
   "source": [
    "using ProgressMeter\n",
    "\n",
    "\"\"\"\n",
    "record!(abm::ABM)\n",
    "\n",
    "Record model-level output.\n",
    "\"\"\"\n",
    "function record!(abm::ABM)\n",
    "    if isapprox(abm.t%abm.saveat, 0, atol = abm.dt)\n",
    "        push!(abm.mout, (t = abm.t, u = deepcopy(abm.u)))\n",
    "    end\n",
    "end\n",
    "\n",
    "\"\"\"\n",
    "Run the ABM.\n",
    "\"\"\"\n",
    "function run!(abm::AbstractABM)\n",
    "    while abm.t <= abm.p.glb.t_max\n",
    "        step!(abm)\n",
    "    end\n",
    "end\n",
    "\n",
    "function runprogress!(abm::AbstractABM)\n",
    "    num_steps = ceil(abm.t / abm.dt)\n",
    "\n",
    "    @showprogress for step in num_steps\n",
    "        step!(abm)\n",
    "    end\n",
    "end"
   ]
  },
  {
   "cell_type": "code",
   "execution_count": 21,
   "metadata": {},
   "outputs": [
    {
     "data": {
      "text/plain": [
       "prepare_output"
      ]
     },
     "metadata": {},
     "output_type": "display_data"
    }
   ],
   "source": [
    "\"\"\"\n",
    "    prepare_output(abm::AbstractABM)\n",
    "\n",
    "Prepare ABM output, converting Vectors of ComponentArrays into DataFrames. \n",
    "Two separate DataFrames are returned containing global and agent-level state variables, respectively.\n",
    "\"\"\"\n",
    "function prepare_output(abm::AbstractABM)\n",
    "\n",
    "    mout = DataFrame(hcat([[x.t] for x in abm.mout]...)', [:t]) |> \n",
    "    x-> hcat(x, DataFrame(hcat([m.u for m in abm.mout]...)', extract_colnames(abm.mout[1].u)))\n",
    "    \n",
    "    if abm.p.glb.recordagentvars\n",
    "        aout = DataFrame(hcat([[x.t, x.AgentID] for x in abm.aout]...)', [:t, :AgentID]) |> \n",
    "        x-> hcat(x, DataFrame(hcat([a.u for a in abm.aout]...)', extract_colnames(abm.aout[1].u)))\n",
    "    else\n",
    "        aout = DataFrame()\n",
    "    end\n",
    "\n",
    "    return mout, aout\n",
    "end"
   ]
  },
  {
   "cell_type": "code",
   "execution_count": 22,
   "metadata": {},
   "outputs": [
    {
     "data": {
      "text/plain": [
       "ABMParamCollection\n",
       "  glb: GlobalABMParams\n",
       "  spc: SpeciesParams\n",
       "  agn: Nothing nothing\n"
      ]
     },
     "metadata": {},
     "output_type": "display_data"
    }
   ],
   "source": [
    "theta = ABMParamCollection(\n",
    "    glb = GlobalABMParams(AgentType = DEBAgent)\n",
    ")\n"
   ]
  },
  {
   "cell_type": "code",
   "execution_count": null,
   "metadata": {},
   "outputs": [],
   "source": [
    "Hydra.Adot!"
   ]
  },
  {
   "cell_type": "code",
   "execution_count": null,
   "metadata": {},
   "outputs": [],
   "source": [
    "Hydra.Adot!"
   ]
  },
  {
   "cell_type": "code",
   "execution_count": 26,
   "metadata": {},
   "outputs": [
    {
     "data": {
      "text/plain": [
       "GlobalABMParams\n",
       "  N0: Int64 10\n",
       "  t_max: Float64 56.0\n",
       "  Xdot_in: Float64 1200.0\n",
       "  k_V: Float64 0.1\n",
       "  V_patch: Float64 0.05\n",
       "  C_W: Array{Float64}((1,)) [0.0]\n",
       "  AgentType: DEBAgent <: AbstractAgent\n",
       "  recordagentvars: Bool true\n",
       "  saveat: Float64 1.0\n",
       "  odefuncs: Array{Function}((2,))\n",
       "  rulefuncs: Array{Function}((1,))\n"
      ]
     },
     "metadata": {},
     "output_type": "display_data"
    }
   ],
   "source": [
    "theta.glb.N0 = 10.\n",
    "theta.glb.t_max = 56.\n",
    "theta.glb"
   ]
  },
  {
   "cell_type": "code",
   "execution_count": 36,
   "metadata": {},
   "outputs": [
    {
     "name": "stderr",
     "output_type": "stream",
     "text": [
      "\u001b[32m\u001b[1m   Resolving\u001b[22m\u001b[39m package versions...\n",
      "\u001b[32m\u001b[1m  No Changes\u001b[22m\u001b[39m to `C:\\Users\\simon\\Documents\\Julia\\Hydra\\test\\Project.toml`\n",
      "\u001b[32m\u001b[1m  No Changes\u001b[22m\u001b[39m to `C:\\Users\\simon\\Documents\\Julia\\Hydra\\test\\Manifest.toml`\n"
     ]
    }
   ],
   "source": [
    "using Pkg; Pkg.add(\"NamedArrays\")"
   ]
  },
  {
   "cell_type": "code",
   "execution_count": 37,
   "metadata": {},
   "outputs": [],
   "source": [
    "using NamedArrays"
   ]
  },
  {
   "cell_type": "code",
   "execution_count": 50,
   "metadata": {},
   "outputs": [
    {
     "data": {
      "text/plain": [
       "3-element Named Vector{Int64}\n",
       "A  │ \n",
       "───┼──\n",
       "a  │ 1\n",
       "b  │ 2\n",
       "c  │ 3"
      ]
     },
     "metadata": {},
     "output_type": "display_data"
    }
   ],
   "source": [
    "nmdar = NamedArray([1, 2, 3]; names = ([\"a\", \"b\", \"c\"],))\n",
    "nmdar"
   ]
  },
  {
   "cell_type": "code",
   "execution_count": 51,
   "metadata": {},
   "outputs": [
    {
     "data": {
      "text/plain": [
       "(:array, :dicts, :dimnames)"
      ]
     },
     "metadata": {},
     "output_type": "display_data"
    }
   ],
   "source": [
    "nmdar |> typeof |> fieldnames"
   ]
  },
  {
   "cell_type": "code",
   "execution_count": 57,
   "metadata": {},
   "outputs": [
    {
     "name": "stdout",
     "output_type": "stream",
     "text": [
      "end\n",
      "\n",
      "@inline function age!(\n",
      "    du::ComponentVector,\n",
      "    u::ComponentVector,\n",
      "    p::AbstractParamCollection,\n",
      "    t::Real\n",
      "    )::Nothing \n",
      "\n",
      "    du.agn.age = 1.\n",
      "\n",
      "    return nothing\n",
      "end\n",
      "\n",
      "\"\"\"\n",
      "Response to chemical stressors, assuming independent action for mixtures.\n",
      "\"\"\"\n",
      "@inline function y_z!(\n",
      "    du::ComponentVector,\n",
      "    u::ComponentVector,\n",
      "    p::AbstractParamCollection,\n",
      "    t::Real\n",
      "    )::Nothing \n",
      "\n",
      "    @inbounds u.agn.y_G = prod([p.spc.drc_functs_G[z](u.agn.D_G[z], (p.spc.e_G[z], p.spc.b_G[z])) for z in 1:length(u.glb.C_W)]) # combined relative responses for sublethal effects per PMoA\n",
      "    @inbounds u.agn.y_M = prod([p.spc.drc_functs_M[z](u.agn.D_M[z], (p.spc.e_M[z], p.spc.b_M[z])) for z in 1:length(u.glb.C_W)])\n",
      "    @inbounds u.agn.y_A = prod([p.spc.drc_functs_A[z](u.agn.D_A[z], (p.spc.e_A[z], p.spc.b_A[z])) for z in 1:length(u.glb.C_W)])\n",
      "    @inbounds u.agn.y_R = prod([p.spc.drc_functs_R[z](u.agn.D_R[z], (p.spc.e_R[z], p.spc.b_R[z])) for z in 1:length(u.glb.C_W)])\n",
      "\n",
      "    @inbounds u.agn.h_z = sum([p.spc.drc_functs_h[z](u.agn.D_h[z], (p.spc.e_h[z], p.spc.b_h[z])) for z in 1:length(u.glb.C_W)]) # hazard rate\n",
      "\n",
      "    return nothing\n",
      "end\n",
      "\n",
      "\n",
      "\"\"\"\n",
      "Hazard rate under starvation\n",
      "\"\"\"\n",
      "@inline function h_S!(\n",
      "    du::ComponentVector,\n",
      "    u::ComponentVector,\n",
      "    p::AbstractParamCollection,\n",
      "    t::Real\n",
      "    )::Nothing \n",
      "\n",
      "    u.agn.h_S = LL2h(u.agn.S / u.agn.S_0, (p.spc.e_S, -p.spc.b_S))\n",
      "\n",
      "    return nothing\n",
      "end\n",
      "\n",
      "\"\"\"\n",
      "Mautrity-driven metabolic acceleration from birth to maturity threshold `H_j` (metamorphosis). \n",
      "We assume that some baseline parameter `p` has value `p_b` at birth and `p_j` at metamorphosis.\n",
      "Between birth and metamorphosis, the current value of `p` is the maturity-weighted mean of `p_b` and `p_j`.\n",
      "\"\"\"\n",
      "function Hbj(H::Float64, X_emb::Float64, H_b::Float64, H_j::Float64, p_b::Float64, p_j::Float64)::Float64\n",
      "    w_b = (H_j - H) / (H_j - H_b) # weight for p_b\n",
      "    w_j = 1 - w_b # weight for p_j\n",
      "    p_bj = mean([p_b, p_j], Weights([w_b, w_j])) # p_bj, i.e. value between birth and maturity\n",
      "    \n",
      "    p = Hydra.sig( # post-metamorphosis: value stays constant at p_j\n",
      "        H,\n",
      "        H_j,\n",
      "        Hydra.sig( # embryonic: value stays constant at p_b\n",
      "            X_emb, \n",
      "            0., \n",
      "            p_bj, \n",
      "            p_b),\n",
      "        p_j\n",
      "    )\n",
      "\n",
      "    return p\n",
      "end\n",
      "\n",
      "\n",
      "\"\"\"\n",
      "    reproduce_opportunistic!(agent::AbstractAgent, abm::AbstractABM)::Nothing\n",
      "\n",
      "Reproduction according to an opportunistic reproduction strategy. \n",
      "Offspring is created whenever there is enough energy in the reproduction buffer.\n",
      "\"\"\"\n",
      "function reproduce_opportunistic!(agent::AbstractAgent, abm::AbstractABM)::Nothing\n",
      "    \n",
      "    let num_offspring = trunc(agent.u.agn.R / agent.p.agn.X_emb_int) # calculate the number of offspring produced\n",
      "        for _ in 1:num_offspring # for the given number of offspring agents\n",
      "            offspring = abm.p.glb.AgentType(abm) # initialize a new agent\n",
      "            offspring.u.agn.cohort = agent.u.agn.cohort + 1 # the offspring agent is part of a new cohort\n",
      "            push!(abm.agents, offspring) # add offspring to agents vector\n",
      "            agent.u.agn.R -= agent.p.agn.X_emb_int # remove energy from reproduction buffer\n",
      "        end\n",
      "        agent.u.agn.cum_repro += num_offspring\n",
      "    end\n",
      "\n",
      "    return nothing\n",
      "end\n",
      "\n",
      "\"\"\"\n",
      "    ingestion!(agent::AbstractAgent, abm::AbstractABMagent)::Nothing\n",
      "\n",
      "Update resource abundance in model `abm` based on ingestion flux of `agent`.\n",
      "\"\"\"\n",
      "function ingestion!(agent::AbstractAgent, abm::AbstractABM)::Nothing\n",
      "    \n",
      "    abm.u.X_p = max(0, abm.u.X_p - agent.du.agn.I_p * abm.dt)\n",
      "    \n",
      "    return nothing\n",
      "end\n",
      "\n",
      "\"\"\"\n",
      "    stochastic_death!(agent::AbstractAgent, abm::AbstractABM, h_x::Float64)::Nothing\n",
      "\n",
      "Apply stochastic death model to agent, with respect to hazard rate `h_x`. \n",
      "\n",
      "Records the cause of death encoded in a number, given by keyword argument `causeofdeath`.\n",
      "\"\"\"\n",
      "function stochastic_death!(agent::AbstractAgent, abm::AbstractABM, h_x::Float64; causeofdeath = 0.)::Nothing\n",
      "    if rand() >= exp(-h_x / abm.dt)\n",
      "        agent.u.agn.dead = 1.\n",
      "        agent.u.agn.causeofdeath = causeofdeath\n",
      "    end\n",
      "\n",
      "    return nothing\n",
      "end\n",
      "\n",
      "function die!(agent::AbstractAgent, abm::AbstractABM)::Nothing\n",
      "    stochastic_death!(agent, abm, agent.u.agn.h_S; causeofdeath = 1.) # starvation mortality from loss of structure\n",
      "    return nothing\n",
      "end\n",
      "\n",
      "function N_tot!(abm::AbstractABM)::Nothing\n",
      "    abm.u.N_tot = length(abm.agents)\n",
      "    return nothing\n",
      "end\n",
      "\n",
      "\"\"\"\n",
      "    DEBODE!(du, u, p, t)\n",
      "Definition of base model as a system of ordinary differential equations. \n",
      "This model definition is suitable for simulating the life-history of a single organism in conjecture with DifferentialEquations.jl.\n",
      "\"\"\"\n",
      "function DEBODE!(du, u, p, t)::Nothing\n",
      "\n",
      "    #### physiological responses\n",
      "    y_z!(du, u, p, t) # response to chemical stressors\n",
      "    h_S!(du, u, p, t) # starvation mortality\n",
      "\n",
      "    #### auxiliary state variables (record cumulative values)\n",
      "    Idot!(du, u, p, t)\n",
      "    Adot!(du, u, p, t) \n",
      "    Mdot!(du, u, p, t) \n",
      "    Jdot!(du, u, p, t)\n",
      "    Qdot!(du, u, p, t)\n",
      "\n",
      "    #### major state variables\n",
      "    Sdot!(du, u, p, t) # structure\n",
      "    S_0dot!(du, u, p, t) # reference structure\n",
      "    Hdot!(du, u, p, t) # maturity \n",
      "    H_bdot!(du, u, p, t) # estimate of maturity at birth\n",
      "    Rdot!(du, u, p, t) # reproduction buffer\n",
      "    X_pdot!(du, u, p, t) # resource abundance\n",
      "    X_embdot!(du, u, p, t) # vitellus\n",
      "    Ddot!(du, u, p, t) # damage\n",
      "    C_Wdot!(du, u, p, t) # external stressor concentration \n",
      "\n",
      "    return nothing\n",
      "end\n"
     ]
    }
   ],
   "source": [
    "theta.spc.odefuncs[end] |> less"
   ]
  },
  {
   "cell_type": "code",
   "execution_count": 60,
   "metadata": {},
   "outputs": [
    {
     "name": "stdout",
     "output_type": "stream",
     "text": [
      "function DEBODE!(du, u, p, t)::Nothing\n",
      "\n",
      "    #### physiological responses\n",
      "    y_z!(du, u, p, t) # response to chemical stressors\n",
      "    h_S!(du, u, p, t) # starvation mortality\n",
      "\n",
      "    #### auxiliary state variables (record cumulative values)\n",
      "    Idot!(du, u, p, t)\n",
      "    Adot!(du, u, p, t) \n",
      "    Mdot!(du, u, p, t) \n",
      "    Jdot!(du, u, p, t)\n",
      "    Qdot!(du, u, p, t)\n",
      "\n",
      "    #### major state variables\n",
      "    Sdot!(du, u, p, t) # structure\n",
      "    S_0dot!(du, u, p, t) # reference structure\n",
      "    Hdot!(du, u, p, t) # maturity \n",
      "    H_bdot!(du, u, p, t) # estimate of maturity at birth\n",
      "    Rdot!(du, u, p, t) # reproduction buffer\n",
      "    X_pdot!(du, u, p, t) # resource abundance\n",
      "    X_embdot!(du, u, p, t) # vitellus\n",
      "    Ddot!(du, u, p, t) # damage\n",
      "    C_Wdot!(du, u, p, t) # external stressor concentration \n",
      "\n",
      "    return nothing\n",
      "end\n"
     ]
    }
   ],
   "source": [
    "\n",
    "less(Hydra.DEBODE!)"
   ]
  },
  {
   "cell_type": "code",
   "execution_count": 27,
   "metadata": {},
   "outputs": [
    {
     "ename": "DomainError",
     "evalue": "DomainError with -0.0026640581113757888:\nlog was called with a negative real argument but will only return a complex result if called with a complex argument. Try log(Complex(x)).\nDomainError detected in the user `f` function. This occurs when the domain of a function is violated.\nFor example, `log(-1.0)` is undefined because `log` of a real number is defined to only output real\nnumbers, but `log` of a negative number is complex valued and therefore Julia throws a DomainError\nby default. Cases to be aware of include:\n\n* `log(x)`, `sqrt(x)`, `cbrt(x)`, etc. where `x<0`\n* `x^y` for `x<0` floating point `y` (example: `(-1.0)^(1/2) == im`)\n\nWithin the context of SciML, this error can occur within the solver process even if the domain constraint\nwould not be violated in the solution due to adaptivity. For example, an ODE solver or optimization\nroutine may check a step at `new_u` which violates the domain constraint, and if violated reject the\nstep and use a smaller `dt`. However, the throwing of this error will have halted the solving process.\n\nThus the recommended fix is to replace this function with the equivalent ones from NaNMath.jl\n(https://github.com/JuliaMath/NaNMath.jl) which returns a NaN instead of an error. The solver will then\neffectively use the NaN within the error control routines to reject the out of bounds step. Additionally,\none could perform a domain transformation on the variables so that such an issue does not occur in the\ndefinition of `f`.\n\nFor more information, check out the following FAQ page:\nhttps://docs.sciml.ai/Optimization/stable/API/FAQ/#The-Solver-Seems-to-Violate-Constraints-During-the-Optimization,-Causing-DomainErrors,-What-Can-I-Do-About-That?\n",
     "output_type": "error",
     "traceback": [
      "DomainError with -0.0026640581113757888:\n",
      "log was called with a negative real argument but will only return a complex result if called with a complex argument. Try log(Complex(x)).\n",
      "DomainError detected in the user `f` function. This occurs when the domain of a function is violated.\n",
      "For example, `log(-1.0)` is undefined because `log` of a real number is defined to only output real\n",
      "numbers, but `log` of a negative number is complex valued and therefore Julia throws a DomainError\n",
      "by default. Cases to be aware of include:\n",
      "\n",
      "* `log(x)`, `sqrt(x)`, `cbrt(x)`, etc. where `x<0`\n",
      "* `x^y` for `x<0` floating point `y` (example: `(-1.0)^(1/2) == im`)\n",
      "\n",
      "Within the context of SciML, this error can occur within the solver process even if the domain constraint\n",
      "would not be violated in the solution due to adaptivity. For example, an ODE solver or optimization\n",
      "routine may check a step at `new_u` which violates the domain constraint, and if violated reject the\n",
      "step and use a smaller `dt`. However, the throwing of this error will have halted the solving process.\n",
      "\n",
      "Thus the recommended fix is to replace this function with the equivalent ones from NaNMath.jl\n",
      "(https://github.com/JuliaMath/NaNMath.jl) which returns a NaN instead of an error. The solver will then\n",
      "effectively use the NaN within the error control routines to reject the out of bounds step. Additionally,\n",
      "one could perform a domain transformation on the variables so that such an issue does not occur in the\n",
      "definition of `f`.\n",
      "\n",
      "For more information, check out the following FAQ page:\n",
      "https://docs.sciml.ai/Optimization/stable/API/FAQ/#The-Solver-Seems-to-Violate-Constraints-During-the-Optimization,-Causing-DomainErrors,-What-Can-I-Do-About-That?\n",
      "\n",
      "\n",
      "Stacktrace:\n",
      "  [1] throw_complex_domainerror(f::Symbol, x::Float64)\n",
      "    @ Base.Math .\\math.jl:33\n",
      "  [2] _log(x::Float64, base::Val{:ℯ}, func::Symbol)\n",
      "    @ Base.Math .\\special\\log.jl:301\n",
      "  [3] log\n",
      "    @ .\\special\\log.jl:267 [inlined]\n",
      "  [4] LL2h\n",
      "    @ c:\\Users\\simon\\Documents\\Julia\\Hydra\\src\\DoseResponse.jl:18 [inlined]\n",
      "  [5] h_S!(du::ComponentVector{Float64, Vector{Float64}, Tuple{Axis{(agn = ViewAxis(1:30, Axis(X_emb = 1, S = 2, S_0 = 3, H = 4, H_b = 5, R = 6, f_X = 7, I_emb = 8, I_p = 9, I = 10, A = 11, M = 12, J = 13, Q = 14, D_G = 15:15, D_M = 16:16, D_A = 17:17, D_R = 18:18, D_h = 19:19, y_G = 20, y_M = 21, y_A = 22, y_R = 23, h_z = 24, h_S = 25, cum_repro = 26, age = 27, cohort = 28, dead = 29, causeofdeath = 30)), glb = ViewAxis(31:33, Axis(X_p = 1, C_W = 2:2, N_tot = 3)))}}}, u::ComponentVector{Float64, Vector{Float64}, Tuple{Axis{(agn = ViewAxis(1:30, Axis(X_emb = 1, S = 2, S_0 = 3, H = 4, H_b = 5, R = 6, f_X = 7, I_emb = 8, I_p = 9, I = 10, A = 11, M = 12, J = 13, Q = 14, D_G = 15:15, D_M = 16:16, D_A = 17:17, D_R = 18:18, D_h = 19:19, y_G = 20, y_M = 21, y_A = 22, y_R = 23, h_z = 24, h_S = 25, cum_repro = 26, age = 27, cohort = 28, dead = 29, causeofdeath = 30)), glb = ViewAxis(31:33, Axis(X_p = 1, C_W = 2:2, N_tot = 3)))}}}, p::ABMParamCollection, t::Float64)\n",
      "    @ Main c:\\Users\\simon\\Documents\\Julia\\Hydra\\src\\ModelFunctions.jl:437\n",
      "  [6] step!(agent::DEBAgent, abm::ABM)\n",
      "    @ Main c:\\Users\\simon\\Documents\\Julia\\Hydra\\test\\abm.ipynb:26\n",
      "  [7] step!(abm::ABM)\n",
      "    @ Main c:\\Users\\simon\\Documents\\Julia\\Hydra\\test\\abm.ipynb:39\n",
      "  [8] run!(abm::ABM)\n",
      "    @ Main c:\\Users\\simon\\Documents\\Julia\\Hydra\\test\\abm.ipynb:18\n",
      "  [9] ABM(p::ABMParamCollection; dt::Float64, saveat::Int64, execute::Bool)\n",
      "    @ Main c:\\Users\\simon\\Documents\\Julia\\Hydra\\test\\abm.ipynb:50\n",
      " [10] ABM(p::ABMParamCollection)\n",
      "    @ Main c:\\Users\\simon\\Documents\\Julia\\Hydra\\test\\abm.ipynb:24\n",
      " [11] top-level scope\n",
      "    @ c:\\Users\\simon\\Documents\\Julia\\Hydra\\test\\abm.ipynb:1"
     ]
    }
   ],
   "source": [
    "Yhat = ABM(theta)"
   ]
  },
  {
   "cell_type": "code",
   "execution_count": 10,
   "metadata": {},
   "outputs": [],
   "source": []
  },
  {
   "cell_type": "code",
   "execution_count": 11,
   "metadata": {},
   "outputs": [],
   "source": []
  },
  {
   "cell_type": "code",
   "execution_count": 12,
   "metadata": {},
   "outputs": [],
   "source": []
  },
  {
   "cell_type": "code",
   "execution_count": 13,
   "metadata": {},
   "outputs": [],
   "source": []
  },
  {
   "cell_type": "code",
   "execution_count": 14,
   "metadata": {},
   "outputs": [],
   "source": []
  }
 ],
 "metadata": {
  "kernelspec": {
   "display_name": "Julia 1.10.1",
   "language": "julia",
   "name": "julia-1.10"
  },
  "language_info": {
   "file_extension": ".jl",
   "mimetype": "application/julia",
   "name": "julia",
   "version": "1.10.1"
  }
 },
 "nbformat": 4,
 "nbformat_minor": 2
}
